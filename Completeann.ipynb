{
  "nbformat": 4,
  "nbformat_minor": 0,
  "metadata": {
    "colab": {
      "provenance": []
    },
    "kernelspec": {
      "name": "python3",
      "display_name": "Python 3"
    },
    "language_info": {
      "name": "python"
    }
  },
  "cells": [
    {
      "cell_type": "markdown",
      "source": [
        "# Binary Classification"
      ],
      "metadata": {
        "id": "0WKkXoUxzSVw"
      }
    },
    {
      "cell_type": "code",
      "execution_count": null,
      "metadata": {
        "id": "EQ2Ohk5nrQKe"
      },
      "outputs": [],
      "source": [
        "# step 1: import library\n",
        "import pandas as pd\n",
        "import numpy as np"
      ]
    },
    {
      "cell_type": "code",
      "source": [
        "# step 2: import data\n",
        "diabetes = pd.read_csv('https://github.com/YBIFoundation/Dataset/raw/main/Diabetes.csv')"
      ],
      "metadata": {
        "id": "fTsQ1xbDrhjx"
      },
      "execution_count": null,
      "outputs": []
    },
    {
      "cell_type": "code",
      "source": [
        "diabetes.head()"
      ],
      "metadata": {
        "colab": {
          "base_uri": "https://localhost:8080/",
          "height": 206
        },
        "id": "0sDjxr6rrr7-",
        "outputId": "a182d48a-8096-47ca-90f8-10bb6b62a793"
      },
      "execution_count": null,
      "outputs": [
        {
          "output_type": "execute_result",
          "data": {
            "text/plain": [
              "   pregnancies  glucose  diastolic  triceps  insulin   bmi    dpf  age  \\\n",
              "0            6      148         72       35        0  33.6  0.627   50   \n",
              "1            1       85         66       29        0  26.6  0.351   31   \n",
              "2            8      183         64        0        0  23.3  0.672   32   \n",
              "3            1       89         66       23       94  28.1  0.167   21   \n",
              "4            0      137         40       35      168  43.1  2.288   33   \n",
              "\n",
              "   diabetes  \n",
              "0         1  \n",
              "1         0  \n",
              "2         1  \n",
              "3         0  \n",
              "4         1  "
            ],
            "text/html": [
              "\n",
              "  <div id=\"df-ee04698b-05bf-45d7-a8fe-275d3c716bcc\">\n",
              "    <div class=\"colab-df-container\">\n",
              "      <div>\n",
              "<style scoped>\n",
              "    .dataframe tbody tr th:only-of-type {\n",
              "        vertical-align: middle;\n",
              "    }\n",
              "\n",
              "    .dataframe tbody tr th {\n",
              "        vertical-align: top;\n",
              "    }\n",
              "\n",
              "    .dataframe thead th {\n",
              "        text-align: right;\n",
              "    }\n",
              "</style>\n",
              "<table border=\"1\" class=\"dataframe\">\n",
              "  <thead>\n",
              "    <tr style=\"text-align: right;\">\n",
              "      <th></th>\n",
              "      <th>pregnancies</th>\n",
              "      <th>glucose</th>\n",
              "      <th>diastolic</th>\n",
              "      <th>triceps</th>\n",
              "      <th>insulin</th>\n",
              "      <th>bmi</th>\n",
              "      <th>dpf</th>\n",
              "      <th>age</th>\n",
              "      <th>diabetes</th>\n",
              "    </tr>\n",
              "  </thead>\n",
              "  <tbody>\n",
              "    <tr>\n",
              "      <th>0</th>\n",
              "      <td>6</td>\n",
              "      <td>148</td>\n",
              "      <td>72</td>\n",
              "      <td>35</td>\n",
              "      <td>0</td>\n",
              "      <td>33.6</td>\n",
              "      <td>0.627</td>\n",
              "      <td>50</td>\n",
              "      <td>1</td>\n",
              "    </tr>\n",
              "    <tr>\n",
              "      <th>1</th>\n",
              "      <td>1</td>\n",
              "      <td>85</td>\n",
              "      <td>66</td>\n",
              "      <td>29</td>\n",
              "      <td>0</td>\n",
              "      <td>26.6</td>\n",
              "      <td>0.351</td>\n",
              "      <td>31</td>\n",
              "      <td>0</td>\n",
              "    </tr>\n",
              "    <tr>\n",
              "      <th>2</th>\n",
              "      <td>8</td>\n",
              "      <td>183</td>\n",
              "      <td>64</td>\n",
              "      <td>0</td>\n",
              "      <td>0</td>\n",
              "      <td>23.3</td>\n",
              "      <td>0.672</td>\n",
              "      <td>32</td>\n",
              "      <td>1</td>\n",
              "    </tr>\n",
              "    <tr>\n",
              "      <th>3</th>\n",
              "      <td>1</td>\n",
              "      <td>89</td>\n",
              "      <td>66</td>\n",
              "      <td>23</td>\n",
              "      <td>94</td>\n",
              "      <td>28.1</td>\n",
              "      <td>0.167</td>\n",
              "      <td>21</td>\n",
              "      <td>0</td>\n",
              "    </tr>\n",
              "    <tr>\n",
              "      <th>4</th>\n",
              "      <td>0</td>\n",
              "      <td>137</td>\n",
              "      <td>40</td>\n",
              "      <td>35</td>\n",
              "      <td>168</td>\n",
              "      <td>43.1</td>\n",
              "      <td>2.288</td>\n",
              "      <td>33</td>\n",
              "      <td>1</td>\n",
              "    </tr>\n",
              "  </tbody>\n",
              "</table>\n",
              "</div>\n",
              "      <button class=\"colab-df-convert\" onclick=\"convertToInteractive('df-ee04698b-05bf-45d7-a8fe-275d3c716bcc')\"\n",
              "              title=\"Convert this dataframe to an interactive table.\"\n",
              "              style=\"display:none;\">\n",
              "        \n",
              "  <svg xmlns=\"http://www.w3.org/2000/svg\" height=\"24px\"viewBox=\"0 0 24 24\"\n",
              "       width=\"24px\">\n",
              "    <path d=\"M0 0h24v24H0V0z\" fill=\"none\"/>\n",
              "    <path d=\"M18.56 5.44l.94 2.06.94-2.06 2.06-.94-2.06-.94-.94-2.06-.94 2.06-2.06.94zm-11 1L8.5 8.5l.94-2.06 2.06-.94-2.06-.94L8.5 2.5l-.94 2.06-2.06.94zm10 10l.94 2.06.94-2.06 2.06-.94-2.06-.94-.94-2.06-.94 2.06-2.06.94z\"/><path d=\"M17.41 7.96l-1.37-1.37c-.4-.4-.92-.59-1.43-.59-.52 0-1.04.2-1.43.59L10.3 9.45l-7.72 7.72c-.78.78-.78 2.05 0 2.83L4 21.41c.39.39.9.59 1.41.59.51 0 1.02-.2 1.41-.59l7.78-7.78 2.81-2.81c.8-.78.8-2.07 0-2.86zM5.41 20L4 18.59l7.72-7.72 1.47 1.35L5.41 20z\"/>\n",
              "  </svg>\n",
              "      </button>\n",
              "      \n",
              "  <style>\n",
              "    .colab-df-container {\n",
              "      display:flex;\n",
              "      flex-wrap:wrap;\n",
              "      gap: 12px;\n",
              "    }\n",
              "\n",
              "    .colab-df-convert {\n",
              "      background-color: #E8F0FE;\n",
              "      border: none;\n",
              "      border-radius: 50%;\n",
              "      cursor: pointer;\n",
              "      display: none;\n",
              "      fill: #1967D2;\n",
              "      height: 32px;\n",
              "      padding: 0 0 0 0;\n",
              "      width: 32px;\n",
              "    }\n",
              "\n",
              "    .colab-df-convert:hover {\n",
              "      background-color: #E2EBFA;\n",
              "      box-shadow: 0px 1px 2px rgba(60, 64, 67, 0.3), 0px 1px 3px 1px rgba(60, 64, 67, 0.15);\n",
              "      fill: #174EA6;\n",
              "    }\n",
              "\n",
              "    [theme=dark] .colab-df-convert {\n",
              "      background-color: #3B4455;\n",
              "      fill: #D2E3FC;\n",
              "    }\n",
              "\n",
              "    [theme=dark] .colab-df-convert:hover {\n",
              "      background-color: #434B5C;\n",
              "      box-shadow: 0px 1px 3px 1px rgba(0, 0, 0, 0.15);\n",
              "      filter: drop-shadow(0px 1px 2px rgba(0, 0, 0, 0.3));\n",
              "      fill: #FFFFFF;\n",
              "    }\n",
              "  </style>\n",
              "\n",
              "      <script>\n",
              "        const buttonEl =\n",
              "          document.querySelector('#df-ee04698b-05bf-45d7-a8fe-275d3c716bcc button.colab-df-convert');\n",
              "        buttonEl.style.display =\n",
              "          google.colab.kernel.accessAllowed ? 'block' : 'none';\n",
              "\n",
              "        async function convertToInteractive(key) {\n",
              "          const element = document.querySelector('#df-ee04698b-05bf-45d7-a8fe-275d3c716bcc');\n",
              "          const dataTable =\n",
              "            await google.colab.kernel.invokeFunction('convertToInteractive',\n",
              "                                                     [key], {});\n",
              "          if (!dataTable) return;\n",
              "\n",
              "          const docLinkHtml = 'Like what you see? Visit the ' +\n",
              "            '<a target=\"_blank\" href=https://colab.research.google.com/notebooks/data_table.ipynb>data table notebook</a>'\n",
              "            + ' to learn more about interactive tables.';\n",
              "          element.innerHTML = '';\n",
              "          dataTable['output_type'] = 'display_data';\n",
              "          await google.colab.output.renderOutput(dataTable, element);\n",
              "          const docLink = document.createElement('div');\n",
              "          docLink.innerHTML = docLinkHtml;\n",
              "          element.appendChild(docLink);\n",
              "        }\n",
              "      </script>\n",
              "    </div>\n",
              "  </div>\n",
              "  "
            ]
          },
          "metadata": {},
          "execution_count": 3
        }
      ]
    },
    {
      "cell_type": "code",
      "source": [
        "# step 3: define y and X"
      ],
      "metadata": {
        "id": "OOquvqvertvp"
      },
      "execution_count": null,
      "outputs": []
    },
    {
      "cell_type": "code",
      "source": [
        "y = diabetes['diabetes']\n",
        "X = diabetes.drop(['diabetes'],axis=1)"
      ],
      "metadata": {
        "id": "zOeqChVlrwy_"
      },
      "execution_count": null,
      "outputs": []
    },
    {
      "cell_type": "code",
      "source": [
        "X.shape"
      ],
      "metadata": {
        "colab": {
          "base_uri": "https://localhost:8080/"
        },
        "id": "rQROk1tCunYs",
        "outputId": "b9875b17-d754-4997-aef4-0af03abf1331"
      },
      "execution_count": null,
      "outputs": [
        {
          "output_type": "execute_result",
          "data": {
            "text/plain": [
              "(768, 8)"
            ]
          },
          "metadata": {},
          "execution_count": 15
        }
      ]
    },
    {
      "cell_type": "code",
      "source": [
        "# step 4: split data\n",
        "from sklearn.model_selection import train_test_split\n",
        "X_train,X_test,y_train,y_test=train_test_split(X,y,random_state=2529)"
      ],
      "metadata": {
        "id": "Lsv6PtOSr35m"
      },
      "execution_count": null,
      "outputs": []
    },
    {
      "cell_type": "code",
      "source": [
        "# step 5: standardize\n",
        "from sklearn.preprocessing import StandardScaler\n",
        "ss = StandardScaler()"
      ],
      "metadata": {
        "id": "RgxVLXIvsFBA"
      },
      "execution_count": null,
      "outputs": []
    },
    {
      "cell_type": "code",
      "source": [
        "X_train = ss.fit_transform(X_train)"
      ],
      "metadata": {
        "id": "vgRLFSwEsTLW"
      },
      "execution_count": null,
      "outputs": []
    },
    {
      "cell_type": "code",
      "source": [
        "X_test = ss.transform(X_test)"
      ],
      "metadata": {
        "id": "Y750DoFZstm-"
      },
      "execution_count": null,
      "outputs": []
    },
    {
      "cell_type": "code",
      "source": [
        "# step 6: model"
      ],
      "metadata": {
        "id": "sTsL3bWbswZt"
      },
      "execution_count": null,
      "outputs": []
    },
    {
      "cell_type": "code",
      "source": [
        "from keras.models import Sequential\n",
        "from keras.layers import Dense\n",
        "model = Sequential()"
      ],
      "metadata": {
        "id": "7_lJJr6btEGn"
      },
      "execution_count": null,
      "outputs": []
    },
    {
      "cell_type": "code",
      "source": [
        "model.add(Dense(9,activation= 'relu'))"
      ],
      "metadata": {
        "id": "IY7zhpuot6tb"
      },
      "execution_count": null,
      "outputs": []
    },
    {
      "cell_type": "code",
      "source": [
        "model.add(Dense(16,activation= 'relu'))"
      ],
      "metadata": {
        "id": "7igKEY4nt7oh"
      },
      "execution_count": null,
      "outputs": []
    },
    {
      "cell_type": "code",
      "source": [
        "model.add(Dense(16,activation= 'relu'))"
      ],
      "metadata": {
        "id": "o75kBwc8v01c"
      },
      "execution_count": null,
      "outputs": []
    },
    {
      "cell_type": "code",
      "source": [
        "model.add(Dense(8 ,activation= 'relu'))"
      ],
      "metadata": {
        "id": "uc3Eetiet7sD"
      },
      "execution_count": null,
      "outputs": []
    },
    {
      "cell_type": "code",
      "source": [
        "model.add(Dense(1,activation= 'sigmoid'))"
      ],
      "metadata": {
        "id": "b6pkXbW7t7vl"
      },
      "execution_count": null,
      "outputs": []
    },
    {
      "cell_type": "code",
      "source": [
        "model.compile(optimizer='adam',loss='binary_crossentropy', metrics=['accuracy']    )"
      ],
      "metadata": {
        "id": "psAw7yiTt7yr"
      },
      "execution_count": null,
      "outputs": []
    },
    {
      "cell_type": "code",
      "source": [
        "model.fit(X_train,y_train,batch_size=32,epochs=20,verbose=1)"
      ],
      "metadata": {
        "colab": {
          "base_uri": "https://localhost:8080/"
        },
        "id": "rXShMQ_4w_II",
        "outputId": "c242a6a5-1fde-4821-f333-cd3da15274c3"
      },
      "execution_count": null,
      "outputs": [
        {
          "output_type": "stream",
          "name": "stdout",
          "text": [
            "Epoch 1/20\n",
            "18/18 [==============================] - 1s 2ms/step - loss: 0.6795 - accuracy: 0.5417\n",
            "Epoch 2/20\n",
            "18/18 [==============================] - 0s 2ms/step - loss: 0.6559 - accuracy: 0.6910\n",
            "Epoch 3/20\n",
            "18/18 [==============================] - 0s 2ms/step - loss: 0.6258 - accuracy: 0.7135\n",
            "Epoch 4/20\n",
            "18/18 [==============================] - 0s 2ms/step - loss: 0.5906 - accuracy: 0.7188\n",
            "Epoch 5/20\n",
            "18/18 [==============================] - 0s 2ms/step - loss: 0.5570 - accuracy: 0.7500\n",
            "Epoch 6/20\n",
            "18/18 [==============================] - 0s 2ms/step - loss: 0.5297 - accuracy: 0.7639\n",
            "Epoch 7/20\n",
            "18/18 [==============================] - 0s 2ms/step - loss: 0.5060 - accuracy: 0.7691\n",
            "Epoch 8/20\n",
            "18/18 [==============================] - 0s 2ms/step - loss: 0.4894 - accuracy: 0.7639\n",
            "Epoch 9/20\n",
            "18/18 [==============================] - 0s 2ms/step - loss: 0.4773 - accuracy: 0.7656\n",
            "Epoch 10/20\n",
            "18/18 [==============================] - 0s 2ms/step - loss: 0.4697 - accuracy: 0.7656\n",
            "Epoch 11/20\n",
            "18/18 [==============================] - 0s 2ms/step - loss: 0.4634 - accuracy: 0.7639\n",
            "Epoch 12/20\n",
            "18/18 [==============================] - 0s 2ms/step - loss: 0.4594 - accuracy: 0.7656\n",
            "Epoch 13/20\n",
            "18/18 [==============================] - 0s 2ms/step - loss: 0.4567 - accuracy: 0.7691\n",
            "Epoch 14/20\n",
            "18/18 [==============================] - 0s 2ms/step - loss: 0.4534 - accuracy: 0.7708\n",
            "Epoch 15/20\n",
            "18/18 [==============================] - 0s 2ms/step - loss: 0.4493 - accuracy: 0.7726\n",
            "Epoch 16/20\n",
            "18/18 [==============================] - 0s 2ms/step - loss: 0.4470 - accuracy: 0.7743\n",
            "Epoch 17/20\n",
            "18/18 [==============================] - 0s 2ms/step - loss: 0.4444 - accuracy: 0.7812\n",
            "Epoch 18/20\n",
            "18/18 [==============================] - 0s 2ms/step - loss: 0.4429 - accuracy: 0.7726\n",
            "Epoch 19/20\n",
            "18/18 [==============================] - 0s 2ms/step - loss: 0.4416 - accuracy: 0.7812\n",
            "Epoch 20/20\n",
            "18/18 [==============================] - 0s 2ms/step - loss: 0.4379 - accuracy: 0.7812\n"
          ]
        },
        {
          "output_type": "execute_result",
          "data": {
            "text/plain": [
              "<keras.callbacks.History at 0x7fcb31dd1550>"
            ]
          },
          "metadata": {},
          "execution_count": 22
        }
      ]
    },
    {
      "cell_type": "code",
      "source": [
        "model.summary()"
      ],
      "metadata": {
        "colab": {
          "base_uri": "https://localhost:8080/"
        },
        "id": "mQHDC89-xtAK",
        "outputId": "0b99459d-185c-4922-ed77-b7a1d92aecf8"
      },
      "execution_count": null,
      "outputs": [
        {
          "output_type": "stream",
          "name": "stdout",
          "text": [
            "Model: \"sequential\"\n",
            "_________________________________________________________________\n",
            " Layer (type)                Output Shape              Param #   \n",
            "=================================================================\n",
            " dense (Dense)               (32, 9)                   81        \n",
            "                                                                 \n",
            " dense_1 (Dense)             (32, 16)                  160       \n",
            "                                                                 \n",
            " dense_2 (Dense)             (32, 16)                  272       \n",
            "                                                                 \n",
            " dense_3 (Dense)             (32, 8)                   136       \n",
            "                                                                 \n",
            " dense_4 (Dense)             (32, 1)                   9         \n",
            "                                                                 \n",
            "=================================================================\n",
            "Total params: 658\n",
            "Trainable params: 658\n",
            "Non-trainable params: 0\n",
            "_________________________________________________________________\n"
          ]
        }
      ]
    },
    {
      "cell_type": "code",
      "source": [
        "# prediction\n",
        "y_pred = model.predict(X_test)"
      ],
      "metadata": {
        "colab": {
          "base_uri": "https://localhost:8080/"
        },
        "id": "kc-m0iq0x7M3",
        "outputId": "487492d4-bcd7-4b8a-8184-b19cffa68896"
      },
      "execution_count": null,
      "outputs": [
        {
          "output_type": "stream",
          "name": "stdout",
          "text": [
            "6/6 [==============================] - 0s 2ms/step\n"
          ]
        }
      ]
    },
    {
      "cell_type": "code",
      "source": [
        "y_pred = np.round(y_pred)"
      ],
      "metadata": {
        "id": "JufQYg7yykol"
      },
      "execution_count": null,
      "outputs": []
    },
    {
      "cell_type": "code",
      "source": [
        "from sklearn.metrics import classification_report, confusion_matrix"
      ],
      "metadata": {
        "id": "B5RSxYv1ylUH"
      },
      "execution_count": null,
      "outputs": []
    },
    {
      "cell_type": "code",
      "source": [
        "confusion_matrix(y_test,y_pred)"
      ],
      "metadata": {
        "colab": {
          "base_uri": "https://localhost:8080/"
        },
        "id": "0zykxZTNyx6v",
        "outputId": "dd40c3e6-6ec9-4a2e-eb2e-872e3c2949dc"
      },
      "execution_count": null,
      "outputs": [
        {
          "output_type": "execute_result",
          "data": {
            "text/plain": [
              "array([[105,  13],\n",
              "       [ 32,  42]])"
            ]
          },
          "metadata": {},
          "execution_count": 29
        }
      ]
    },
    {
      "cell_type": "code",
      "source": [
        "print(classification_report(y_test,y_pred))"
      ],
      "metadata": {
        "colab": {
          "base_uri": "https://localhost:8080/"
        },
        "id": "_lTCRdi6y7El",
        "outputId": "c346d9e6-a81b-47e3-f38e-b96de760e927"
      },
      "execution_count": null,
      "outputs": [
        {
          "output_type": "stream",
          "name": "stdout",
          "text": [
            "              precision    recall  f1-score   support\n",
            "\n",
            "           0       0.77      0.89      0.82       118\n",
            "           1       0.76      0.57      0.65        74\n",
            "\n",
            "    accuracy                           0.77       192\n",
            "   macro avg       0.77      0.73      0.74       192\n",
            "weighted avg       0.77      0.77      0.76       192\n",
            "\n"
          ]
        }
      ]
    },
    {
      "cell_type": "markdown",
      "source": [
        "# Multiclass problem"
      ],
      "metadata": {
        "id": "SfLjekH0zr-y"
      }
    },
    {
      "cell_type": "code",
      "execution_count": null,
      "metadata": {
        "id": "fbwlM7hZzvEC"
      },
      "outputs": [],
      "source": [
        "# step 1: import library\n",
        "import pandas as pd\n",
        "import numpy as np"
      ]
    },
    {
      "cell_type": "code",
      "source": [
        "# step 2: import data\n",
        "iris = pd.read_csv('https://github.com/YBIFoundation/Dataset/raw/main/IRIS.csv')"
      ],
      "metadata": {
        "id": "AHEnVGTjzvED"
      },
      "execution_count": null,
      "outputs": []
    },
    {
      "cell_type": "code",
      "source": [
        "iris.head()"
      ],
      "metadata": {
        "colab": {
          "base_uri": "https://localhost:8080/",
          "height": 206
        },
        "outputId": "909eed3c-4a45-4ef2-e2f3-8eb1e68a19cf",
        "id": "4EPOMtlXzvED"
      },
      "execution_count": null,
      "outputs": [
        {
          "output_type": "execute_result",
          "data": {
            "text/plain": [
              "   sepal_length  sepal_width  petal_length  petal_width      species\n",
              "0           5.1          3.5           1.4          0.2  Iris-setosa\n",
              "1           4.9          3.0           1.4          0.2  Iris-setosa\n",
              "2           4.7          3.2           1.3          0.2  Iris-setosa\n",
              "3           4.6          3.1           1.5          0.2  Iris-setosa\n",
              "4           5.0          3.6           1.4          0.2  Iris-setosa"
            ],
            "text/html": [
              "\n",
              "  <div id=\"df-f8bdf49a-d5f6-41a0-928b-225d389a451f\">\n",
              "    <div class=\"colab-df-container\">\n",
              "      <div>\n",
              "<style scoped>\n",
              "    .dataframe tbody tr th:only-of-type {\n",
              "        vertical-align: middle;\n",
              "    }\n",
              "\n",
              "    .dataframe tbody tr th {\n",
              "        vertical-align: top;\n",
              "    }\n",
              "\n",
              "    .dataframe thead th {\n",
              "        text-align: right;\n",
              "    }\n",
              "</style>\n",
              "<table border=\"1\" class=\"dataframe\">\n",
              "  <thead>\n",
              "    <tr style=\"text-align: right;\">\n",
              "      <th></th>\n",
              "      <th>sepal_length</th>\n",
              "      <th>sepal_width</th>\n",
              "      <th>petal_length</th>\n",
              "      <th>petal_width</th>\n",
              "      <th>species</th>\n",
              "    </tr>\n",
              "  </thead>\n",
              "  <tbody>\n",
              "    <tr>\n",
              "      <th>0</th>\n",
              "      <td>5.1</td>\n",
              "      <td>3.5</td>\n",
              "      <td>1.4</td>\n",
              "      <td>0.2</td>\n",
              "      <td>Iris-setosa</td>\n",
              "    </tr>\n",
              "    <tr>\n",
              "      <th>1</th>\n",
              "      <td>4.9</td>\n",
              "      <td>3.0</td>\n",
              "      <td>1.4</td>\n",
              "      <td>0.2</td>\n",
              "      <td>Iris-setosa</td>\n",
              "    </tr>\n",
              "    <tr>\n",
              "      <th>2</th>\n",
              "      <td>4.7</td>\n",
              "      <td>3.2</td>\n",
              "      <td>1.3</td>\n",
              "      <td>0.2</td>\n",
              "      <td>Iris-setosa</td>\n",
              "    </tr>\n",
              "    <tr>\n",
              "      <th>3</th>\n",
              "      <td>4.6</td>\n",
              "      <td>3.1</td>\n",
              "      <td>1.5</td>\n",
              "      <td>0.2</td>\n",
              "      <td>Iris-setosa</td>\n",
              "    </tr>\n",
              "    <tr>\n",
              "      <th>4</th>\n",
              "      <td>5.0</td>\n",
              "      <td>3.6</td>\n",
              "      <td>1.4</td>\n",
              "      <td>0.2</td>\n",
              "      <td>Iris-setosa</td>\n",
              "    </tr>\n",
              "  </tbody>\n",
              "</table>\n",
              "</div>\n",
              "      <button class=\"colab-df-convert\" onclick=\"convertToInteractive('df-f8bdf49a-d5f6-41a0-928b-225d389a451f')\"\n",
              "              title=\"Convert this dataframe to an interactive table.\"\n",
              "              style=\"display:none;\">\n",
              "        \n",
              "  <svg xmlns=\"http://www.w3.org/2000/svg\" height=\"24px\"viewBox=\"0 0 24 24\"\n",
              "       width=\"24px\">\n",
              "    <path d=\"M0 0h24v24H0V0z\" fill=\"none\"/>\n",
              "    <path d=\"M18.56 5.44l.94 2.06.94-2.06 2.06-.94-2.06-.94-.94-2.06-.94 2.06-2.06.94zm-11 1L8.5 8.5l.94-2.06 2.06-.94-2.06-.94L8.5 2.5l-.94 2.06-2.06.94zm10 10l.94 2.06.94-2.06 2.06-.94-2.06-.94-.94-2.06-.94 2.06-2.06.94z\"/><path d=\"M17.41 7.96l-1.37-1.37c-.4-.4-.92-.59-1.43-.59-.52 0-1.04.2-1.43.59L10.3 9.45l-7.72 7.72c-.78.78-.78 2.05 0 2.83L4 21.41c.39.39.9.59 1.41.59.51 0 1.02-.2 1.41-.59l7.78-7.78 2.81-2.81c.8-.78.8-2.07 0-2.86zM5.41 20L4 18.59l7.72-7.72 1.47 1.35L5.41 20z\"/>\n",
              "  </svg>\n",
              "      </button>\n",
              "      \n",
              "  <style>\n",
              "    .colab-df-container {\n",
              "      display:flex;\n",
              "      flex-wrap:wrap;\n",
              "      gap: 12px;\n",
              "    }\n",
              "\n",
              "    .colab-df-convert {\n",
              "      background-color: #E8F0FE;\n",
              "      border: none;\n",
              "      border-radius: 50%;\n",
              "      cursor: pointer;\n",
              "      display: none;\n",
              "      fill: #1967D2;\n",
              "      height: 32px;\n",
              "      padding: 0 0 0 0;\n",
              "      width: 32px;\n",
              "    }\n",
              "\n",
              "    .colab-df-convert:hover {\n",
              "      background-color: #E2EBFA;\n",
              "      box-shadow: 0px 1px 2px rgba(60, 64, 67, 0.3), 0px 1px 3px 1px rgba(60, 64, 67, 0.15);\n",
              "      fill: #174EA6;\n",
              "    }\n",
              "\n",
              "    [theme=dark] .colab-df-convert {\n",
              "      background-color: #3B4455;\n",
              "      fill: #D2E3FC;\n",
              "    }\n",
              "\n",
              "    [theme=dark] .colab-df-convert:hover {\n",
              "      background-color: #434B5C;\n",
              "      box-shadow: 0px 1px 3px 1px rgba(0, 0, 0, 0.15);\n",
              "      filter: drop-shadow(0px 1px 2px rgba(0, 0, 0, 0.3));\n",
              "      fill: #FFFFFF;\n",
              "    }\n",
              "  </style>\n",
              "\n",
              "      <script>\n",
              "        const buttonEl =\n",
              "          document.querySelector('#df-f8bdf49a-d5f6-41a0-928b-225d389a451f button.colab-df-convert');\n",
              "        buttonEl.style.display =\n",
              "          google.colab.kernel.accessAllowed ? 'block' : 'none';\n",
              "\n",
              "        async function convertToInteractive(key) {\n",
              "          const element = document.querySelector('#df-f8bdf49a-d5f6-41a0-928b-225d389a451f');\n",
              "          const dataTable =\n",
              "            await google.colab.kernel.invokeFunction('convertToInteractive',\n",
              "                                                     [key], {});\n",
              "          if (!dataTable) return;\n",
              "\n",
              "          const docLinkHtml = 'Like what you see? Visit the ' +\n",
              "            '<a target=\"_blank\" href=https://colab.research.google.com/notebooks/data_table.ipynb>data table notebook</a>'\n",
              "            + ' to learn more about interactive tables.';\n",
              "          element.innerHTML = '';\n",
              "          dataTable['output_type'] = 'display_data';\n",
              "          await google.colab.output.renderOutput(dataTable, element);\n",
              "          const docLink = document.createElement('div');\n",
              "          docLink.innerHTML = docLinkHtml;\n",
              "          element.appendChild(docLink);\n",
              "        }\n",
              "      </script>\n",
              "    </div>\n",
              "  </div>\n",
              "  "
            ]
          },
          "metadata": {},
          "execution_count": 34
        }
      ]
    },
    {
      "cell_type": "code",
      "source": [
        "# step 3: define y and X"
      ],
      "metadata": {
        "id": "uVtnebDFzvED"
      },
      "execution_count": null,
      "outputs": []
    },
    {
      "cell_type": "code",
      "source": [
        "y = iris[['species']]\n",
        "X = iris.drop(['species'],axis=1)"
      ],
      "metadata": {
        "id": "I-59LG8gzvED"
      },
      "execution_count": null,
      "outputs": []
    },
    {
      "cell_type": "code",
      "source": [
        "X.shape, y.shape"
      ],
      "metadata": {
        "colab": {
          "base_uri": "https://localhost:8080/"
        },
        "outputId": "442de6ca-0a71-4521-ea82-65f0b295190d",
        "id": "oHpoF_fozvED"
      },
      "execution_count": null,
      "outputs": [
        {
          "output_type": "execute_result",
          "data": {
            "text/plain": [
              "((150, 4), (150, 1))"
            ]
          },
          "metadata": {},
          "execution_count": 44
        }
      ]
    },
    {
      "cell_type": "code",
      "source": [
        "# step convert y into dummy variable\n",
        "y=pd.get_dummies(y)\n",
        "y"
      ],
      "metadata": {
        "colab": {
          "base_uri": "https://localhost:8080/",
          "height": 424
        },
        "id": "ZfaXBECQ0LVQ",
        "outputId": "9deb6f28-0e22-4299-be64-96d0a5708c33"
      },
      "execution_count": null,
      "outputs": [
        {
          "output_type": "execute_result",
          "data": {
            "text/plain": [
              "     species_Iris-setosa  species_Iris-versicolor  species_Iris-virginica\n",
              "0                      1                        0                       0\n",
              "1                      1                        0                       0\n",
              "2                      1                        0                       0\n",
              "3                      1                        0                       0\n",
              "4                      1                        0                       0\n",
              "..                   ...                      ...                     ...\n",
              "145                    0                        0                       1\n",
              "146                    0                        0                       1\n",
              "147                    0                        0                       1\n",
              "148                    0                        0                       1\n",
              "149                    0                        0                       1\n",
              "\n",
              "[150 rows x 3 columns]"
            ],
            "text/html": [
              "\n",
              "  <div id=\"df-46054fa7-ee0f-447d-bcee-a112a600af81\">\n",
              "    <div class=\"colab-df-container\">\n",
              "      <div>\n",
              "<style scoped>\n",
              "    .dataframe tbody tr th:only-of-type {\n",
              "        vertical-align: middle;\n",
              "    }\n",
              "\n",
              "    .dataframe tbody tr th {\n",
              "        vertical-align: top;\n",
              "    }\n",
              "\n",
              "    .dataframe thead th {\n",
              "        text-align: right;\n",
              "    }\n",
              "</style>\n",
              "<table border=\"1\" class=\"dataframe\">\n",
              "  <thead>\n",
              "    <tr style=\"text-align: right;\">\n",
              "      <th></th>\n",
              "      <th>species_Iris-setosa</th>\n",
              "      <th>species_Iris-versicolor</th>\n",
              "      <th>species_Iris-virginica</th>\n",
              "    </tr>\n",
              "  </thead>\n",
              "  <tbody>\n",
              "    <tr>\n",
              "      <th>0</th>\n",
              "      <td>1</td>\n",
              "      <td>0</td>\n",
              "      <td>0</td>\n",
              "    </tr>\n",
              "    <tr>\n",
              "      <th>1</th>\n",
              "      <td>1</td>\n",
              "      <td>0</td>\n",
              "      <td>0</td>\n",
              "    </tr>\n",
              "    <tr>\n",
              "      <th>2</th>\n",
              "      <td>1</td>\n",
              "      <td>0</td>\n",
              "      <td>0</td>\n",
              "    </tr>\n",
              "    <tr>\n",
              "      <th>3</th>\n",
              "      <td>1</td>\n",
              "      <td>0</td>\n",
              "      <td>0</td>\n",
              "    </tr>\n",
              "    <tr>\n",
              "      <th>4</th>\n",
              "      <td>1</td>\n",
              "      <td>0</td>\n",
              "      <td>0</td>\n",
              "    </tr>\n",
              "    <tr>\n",
              "      <th>...</th>\n",
              "      <td>...</td>\n",
              "      <td>...</td>\n",
              "      <td>...</td>\n",
              "    </tr>\n",
              "    <tr>\n",
              "      <th>145</th>\n",
              "      <td>0</td>\n",
              "      <td>0</td>\n",
              "      <td>1</td>\n",
              "    </tr>\n",
              "    <tr>\n",
              "      <th>146</th>\n",
              "      <td>0</td>\n",
              "      <td>0</td>\n",
              "      <td>1</td>\n",
              "    </tr>\n",
              "    <tr>\n",
              "      <th>147</th>\n",
              "      <td>0</td>\n",
              "      <td>0</td>\n",
              "      <td>1</td>\n",
              "    </tr>\n",
              "    <tr>\n",
              "      <th>148</th>\n",
              "      <td>0</td>\n",
              "      <td>0</td>\n",
              "      <td>1</td>\n",
              "    </tr>\n",
              "    <tr>\n",
              "      <th>149</th>\n",
              "      <td>0</td>\n",
              "      <td>0</td>\n",
              "      <td>1</td>\n",
              "    </tr>\n",
              "  </tbody>\n",
              "</table>\n",
              "<p>150 rows × 3 columns</p>\n",
              "</div>\n",
              "      <button class=\"colab-df-convert\" onclick=\"convertToInteractive('df-46054fa7-ee0f-447d-bcee-a112a600af81')\"\n",
              "              title=\"Convert this dataframe to an interactive table.\"\n",
              "              style=\"display:none;\">\n",
              "        \n",
              "  <svg xmlns=\"http://www.w3.org/2000/svg\" height=\"24px\"viewBox=\"0 0 24 24\"\n",
              "       width=\"24px\">\n",
              "    <path d=\"M0 0h24v24H0V0z\" fill=\"none\"/>\n",
              "    <path d=\"M18.56 5.44l.94 2.06.94-2.06 2.06-.94-2.06-.94-.94-2.06-.94 2.06-2.06.94zm-11 1L8.5 8.5l.94-2.06 2.06-.94-2.06-.94L8.5 2.5l-.94 2.06-2.06.94zm10 10l.94 2.06.94-2.06 2.06-.94-2.06-.94-.94-2.06-.94 2.06-2.06.94z\"/><path d=\"M17.41 7.96l-1.37-1.37c-.4-.4-.92-.59-1.43-.59-.52 0-1.04.2-1.43.59L10.3 9.45l-7.72 7.72c-.78.78-.78 2.05 0 2.83L4 21.41c.39.39.9.59 1.41.59.51 0 1.02-.2 1.41-.59l7.78-7.78 2.81-2.81c.8-.78.8-2.07 0-2.86zM5.41 20L4 18.59l7.72-7.72 1.47 1.35L5.41 20z\"/>\n",
              "  </svg>\n",
              "      </button>\n",
              "      \n",
              "  <style>\n",
              "    .colab-df-container {\n",
              "      display:flex;\n",
              "      flex-wrap:wrap;\n",
              "      gap: 12px;\n",
              "    }\n",
              "\n",
              "    .colab-df-convert {\n",
              "      background-color: #E8F0FE;\n",
              "      border: none;\n",
              "      border-radius: 50%;\n",
              "      cursor: pointer;\n",
              "      display: none;\n",
              "      fill: #1967D2;\n",
              "      height: 32px;\n",
              "      padding: 0 0 0 0;\n",
              "      width: 32px;\n",
              "    }\n",
              "\n",
              "    .colab-df-convert:hover {\n",
              "      background-color: #E2EBFA;\n",
              "      box-shadow: 0px 1px 2px rgba(60, 64, 67, 0.3), 0px 1px 3px 1px rgba(60, 64, 67, 0.15);\n",
              "      fill: #174EA6;\n",
              "    }\n",
              "\n",
              "    [theme=dark] .colab-df-convert {\n",
              "      background-color: #3B4455;\n",
              "      fill: #D2E3FC;\n",
              "    }\n",
              "\n",
              "    [theme=dark] .colab-df-convert:hover {\n",
              "      background-color: #434B5C;\n",
              "      box-shadow: 0px 1px 3px 1px rgba(0, 0, 0, 0.15);\n",
              "      filter: drop-shadow(0px 1px 2px rgba(0, 0, 0, 0.3));\n",
              "      fill: #FFFFFF;\n",
              "    }\n",
              "  </style>\n",
              "\n",
              "      <script>\n",
              "        const buttonEl =\n",
              "          document.querySelector('#df-46054fa7-ee0f-447d-bcee-a112a600af81 button.colab-df-convert');\n",
              "        buttonEl.style.display =\n",
              "          google.colab.kernel.accessAllowed ? 'block' : 'none';\n",
              "\n",
              "        async function convertToInteractive(key) {\n",
              "          const element = document.querySelector('#df-46054fa7-ee0f-447d-bcee-a112a600af81');\n",
              "          const dataTable =\n",
              "            await google.colab.kernel.invokeFunction('convertToInteractive',\n",
              "                                                     [key], {});\n",
              "          if (!dataTable) return;\n",
              "\n",
              "          const docLinkHtml = 'Like what you see? Visit the ' +\n",
              "            '<a target=\"_blank\" href=https://colab.research.google.com/notebooks/data_table.ipynb>data table notebook</a>'\n",
              "            + ' to learn more about interactive tables.';\n",
              "          element.innerHTML = '';\n",
              "          dataTable['output_type'] = 'display_data';\n",
              "          await google.colab.output.renderOutput(dataTable, element);\n",
              "          const docLink = document.createElement('div');\n",
              "          docLink.innerHTML = docLinkHtml;\n",
              "          element.appendChild(docLink);\n",
              "        }\n",
              "      </script>\n",
              "    </div>\n",
              "  </div>\n",
              "  "
            ]
          },
          "metadata": {},
          "execution_count": 46
        }
      ]
    },
    {
      "cell_type": "code",
      "source": [
        "# step 4: split data\n",
        "from sklearn.model_selection import train_test_split\n",
        "X_train,X_test,y_train,y_test=train_test_split(X,y,random_state=2529)"
      ],
      "metadata": {
        "id": "cP_uDlq0zvEE"
      },
      "execution_count": null,
      "outputs": []
    },
    {
      "cell_type": "code",
      "source": [
        "# step 5: standardize\n",
        "from sklearn.preprocessing import StandardScaler\n",
        "ss = StandardScaler()"
      ],
      "metadata": {
        "id": "MI8UUO5azvEE"
      },
      "execution_count": null,
      "outputs": []
    },
    {
      "cell_type": "code",
      "source": [
        "X_train = ss.fit_transform(X_train)"
      ],
      "metadata": {
        "id": "MamvONrczvEE"
      },
      "execution_count": null,
      "outputs": []
    },
    {
      "cell_type": "code",
      "source": [
        "X_test = ss.transform(X_test)"
      ],
      "metadata": {
        "id": "N_d5Dg30zvEE"
      },
      "execution_count": null,
      "outputs": []
    },
    {
      "cell_type": "code",
      "source": [
        "# step 6: model"
      ],
      "metadata": {
        "id": "mXQfrs-MzvEE"
      },
      "execution_count": null,
      "outputs": []
    },
    {
      "cell_type": "code",
      "source": [
        "from keras.models import Sequential\n",
        "from keras.layers import Dense\n",
        "model = Sequential()"
      ],
      "metadata": {
        "id": "Fsz69R2KzvEE"
      },
      "execution_count": null,
      "outputs": []
    },
    {
      "cell_type": "code",
      "source": [
        "model.add(Dense(9,activation= 'relu'))"
      ],
      "metadata": {
        "id": "MKBSkX8WzvEF"
      },
      "execution_count": null,
      "outputs": []
    },
    {
      "cell_type": "code",
      "source": [
        "model.add(Dense(16,activation= 'relu'))"
      ],
      "metadata": {
        "id": "PSxiWr58zvEF"
      },
      "execution_count": null,
      "outputs": []
    },
    {
      "cell_type": "code",
      "source": [
        "model.add(Dense(16,activation= 'relu'))"
      ],
      "metadata": {
        "id": "RP00FUpzzvEF"
      },
      "execution_count": null,
      "outputs": []
    },
    {
      "cell_type": "code",
      "source": [
        "model.add(Dense(8 ,activation= 'relu'))"
      ],
      "metadata": {
        "id": "VqtDnYXyzvEF"
      },
      "execution_count": null,
      "outputs": []
    },
    {
      "cell_type": "code",
      "source": [
        "model.add(Dense(3,activation= 'softmax'))"
      ],
      "metadata": {
        "id": "PyygjLbAzvEG"
      },
      "execution_count": null,
      "outputs": []
    },
    {
      "cell_type": "code",
      "source": [
        "model.compile(optimizer='adam',loss='categorical_crossentropy', metrics=['accuracy']    )"
      ],
      "metadata": {
        "id": "sE7fxgsozvEG"
      },
      "execution_count": null,
      "outputs": []
    },
    {
      "cell_type": "code",
      "source": [
        "model.fit(X_train,y_train,batch_size=32,epochs=20,verbose=1)"
      ],
      "metadata": {
        "colab": {
          "base_uri": "https://localhost:8080/"
        },
        "outputId": "d770896d-82fd-41b4-e677-6763eec62558",
        "id": "a-z8m236zvEG"
      },
      "execution_count": null,
      "outputs": [
        {
          "output_type": "stream",
          "name": "stdout",
          "text": [
            "Epoch 1/20\n",
            "4/4 [==============================] - 1s 3ms/step - loss: 1.2440 - accuracy: 0.2232\n",
            "Epoch 2/20\n",
            "4/4 [==============================] - 0s 3ms/step - loss: 1.2028 - accuracy: 0.2321\n",
            "Epoch 3/20\n",
            "4/4 [==============================] - 0s 3ms/step - loss: 1.1665 - accuracy: 0.2500\n",
            "Epoch 4/20\n",
            "4/4 [==============================] - 0s 3ms/step - loss: 1.1352 - accuracy: 0.3393\n",
            "Epoch 5/20\n",
            "4/4 [==============================] - 0s 5ms/step - loss: 1.1070 - accuracy: 0.4375\n",
            "Epoch 6/20\n",
            "4/4 [==============================] - 0s 3ms/step - loss: 1.0821 - accuracy: 0.5179\n",
            "Epoch 7/20\n",
            "4/4 [==============================] - 0s 3ms/step - loss: 1.0583 - accuracy: 0.5625\n",
            "Epoch 8/20\n",
            "4/4 [==============================] - 0s 3ms/step - loss: 1.0352 - accuracy: 0.6161\n",
            "Epoch 9/20\n",
            "4/4 [==============================] - 0s 4ms/step - loss: 1.0130 - accuracy: 0.6518\n",
            "Epoch 10/20\n",
            "4/4 [==============================] - 0s 3ms/step - loss: 0.9900 - accuracy: 0.6786\n",
            "Epoch 11/20\n",
            "4/4 [==============================] - 0s 4ms/step - loss: 0.9663 - accuracy: 0.7054\n",
            "Epoch 12/20\n",
            "4/4 [==============================] - 0s 4ms/step - loss: 0.9429 - accuracy: 0.7143\n",
            "Epoch 13/20\n",
            "4/4 [==============================] - 0s 3ms/step - loss: 0.9156 - accuracy: 0.7143\n",
            "Epoch 14/20\n",
            "4/4 [==============================] - 0s 5ms/step - loss: 0.8887 - accuracy: 0.7143\n",
            "Epoch 15/20\n",
            "4/4 [==============================] - 0s 3ms/step - loss: 0.8623 - accuracy: 0.7143\n",
            "Epoch 16/20\n",
            "4/4 [==============================] - 0s 4ms/step - loss: 0.8331 - accuracy: 0.7143\n",
            "Epoch 17/20\n",
            "4/4 [==============================] - 0s 3ms/step - loss: 0.8067 - accuracy: 0.7143\n",
            "Epoch 18/20\n",
            "4/4 [==============================] - 0s 3ms/step - loss: 0.7788 - accuracy: 0.7232\n",
            "Epoch 19/20\n",
            "4/4 [==============================] - 0s 4ms/step - loss: 0.7521 - accuracy: 0.7232\n",
            "Epoch 20/20\n",
            "4/4 [==============================] - 0s 4ms/step - loss: 0.7283 - accuracy: 0.7232\n"
          ]
        },
        {
          "output_type": "execute_result",
          "data": {
            "text/plain": [
              "<keras.callbacks.History at 0x7fcb33d33940>"
            ]
          },
          "metadata": {},
          "execution_count": 59
        }
      ]
    },
    {
      "cell_type": "code",
      "source": [
        "model.summary()"
      ],
      "metadata": {
        "colab": {
          "base_uri": "https://localhost:8080/"
        },
        "outputId": "34e164b0-434a-45fe-8de8-1fac12772db8",
        "id": "VVVsnwiWzvEG"
      },
      "execution_count": null,
      "outputs": [
        {
          "output_type": "stream",
          "name": "stdout",
          "text": [
            "Model: \"sequential_1\"\n",
            "_________________________________________________________________\n",
            " Layer (type)                Output Shape              Param #   \n",
            "=================================================================\n",
            " dense_5 (Dense)             (None, 9)                 45        \n",
            "                                                                 \n",
            " dense_6 (Dense)             (None, 16)                160       \n",
            "                                                                 \n",
            " dense_7 (Dense)             (None, 16)                272       \n",
            "                                                                 \n",
            " dense_8 (Dense)             (None, 8)                 136       \n",
            "                                                                 \n",
            " dense_9 (Dense)             (None, 3)                 27        \n",
            "                                                                 \n",
            "=================================================================\n",
            "Total params: 640\n",
            "Trainable params: 640\n",
            "Non-trainable params: 0\n",
            "_________________________________________________________________\n"
          ]
        }
      ]
    },
    {
      "cell_type": "code",
      "source": [
        "# prediction\n",
        "y_pred = model.predict(X_test)"
      ],
      "metadata": {
        "colab": {
          "base_uri": "https://localhost:8080/"
        },
        "outputId": "7984f34c-1c6d-4b81-af6d-b63eca73aa46",
        "id": "SpESHtfozvEG"
      },
      "execution_count": null,
      "outputs": [
        {
          "output_type": "stream",
          "name": "stdout",
          "text": [
            "2/2 [==============================] - 0s 3ms/step\n"
          ]
        }
      ]
    },
    {
      "cell_type": "code",
      "source": [
        "y_pred"
      ],
      "metadata": {
        "colab": {
          "base_uri": "https://localhost:8080/"
        },
        "id": "guUegyyF1QEI",
        "outputId": "5523fcb5-ad22-4be2-be88-4ae6de0021ea"
      },
      "execution_count": null,
      "outputs": [
        {
          "output_type": "execute_result",
          "data": {
            "text/plain": [
              "array([[0.85496444, 0.07189173, 0.0731438 ],\n",
              "       [0.7531097 , 0.12361167, 0.12327859],\n",
              "       [0.76743627, 0.12189992, 0.11066382],\n",
              "       [0.19338173, 0.49874315, 0.3078752 ],\n",
              "       [0.1923384 , 0.5014726 , 0.30618894],\n",
              "       [0.25775203, 0.4322463 , 0.31000167],\n",
              "       [0.21660505, 0.47613192, 0.30726308],\n",
              "       [0.2522039 , 0.42788985, 0.3199062 ],\n",
              "       [0.2058819 , 0.48119968, 0.31291857],\n",
              "       [0.2299148 , 0.45322007, 0.31686515],\n",
              "       [0.2396668 , 0.43877503, 0.3215582 ],\n",
              "       [0.23840676, 0.43811458, 0.32347867],\n",
              "       [0.23235635, 0.45869413, 0.30894947],\n",
              "       [0.20627499, 0.50562644, 0.28809854],\n",
              "       [0.8724055 , 0.06294835, 0.06464622],\n",
              "       [0.22743595, 0.45352322, 0.31904078],\n",
              "       [0.24967101, 0.42766675, 0.32266223],\n",
              "       [0.20196094, 0.48727322, 0.3107658 ],\n",
              "       [0.80760825, 0.09586031, 0.09653145],\n",
              "       [0.8318232 , 0.08156703, 0.0866097 ],\n",
              "       [0.8146661 , 0.08946141, 0.09587253],\n",
              "       [0.8318232 , 0.08156703, 0.0866097 ],\n",
              "       [0.18477754, 0.5019245 , 0.313298  ],\n",
              "       [0.19256675, 0.4935418 , 0.31389144],\n",
              "       [0.20300238, 0.48861852, 0.30837923],\n",
              "       [0.18636297, 0.5170683 , 0.29656872],\n",
              "       [0.8709465 , 0.06383742, 0.06521604],\n",
              "       [0.21993189, 0.46695945, 0.31310868],\n",
              "       [0.20786156, 0.47876367, 0.3133748 ],\n",
              "       [0.8190213 , 0.08757301, 0.09340578],\n",
              "       [0.2393713 , 0.43885702, 0.3217717 ],\n",
              "       [0.19551909, 0.49209467, 0.31238624],\n",
              "       [0.7716452 , 0.11415441, 0.11420049],\n",
              "       [0.7791931 , 0.1103087 , 0.11049828],\n",
              "       [0.2001145 , 0.49643666, 0.3034488 ],\n",
              "       [0.21861322, 0.46592712, 0.31545964],\n",
              "       [0.2824523 , 0.39250863, 0.32503906],\n",
              "       [0.8687648 , 0.06489572, 0.06633954]], dtype=float32)"
            ]
          },
          "metadata": {},
          "execution_count": 62
        }
      ]
    },
    {
      "cell_type": "code",
      "source": [
        "np.argmax(y_pred,axis=1)"
      ],
      "metadata": {
        "colab": {
          "base_uri": "https://localhost:8080/"
        },
        "id": "IzE2BiTq1xLx",
        "outputId": "122d7851-8bc2-4a85-e208-02d3f2c80f30"
      },
      "execution_count": null,
      "outputs": [
        {
          "output_type": "execute_result",
          "data": {
            "text/plain": [
              "array([0, 0, 0, 1, 1, 1, 1, 1, 1, 1, 1, 1, 1, 1, 0, 1, 1, 1, 0, 0, 0, 0,\n",
              "       1, 1, 1, 1, 0, 1, 1, 0, 1, 1, 0, 0, 1, 1, 1, 0])"
            ]
          },
          "metadata": {},
          "execution_count": 67
        }
      ]
    },
    {
      "cell_type": "code",
      "source": [
        "y_pred=np.argmax(y_pred,axis=1)"
      ],
      "metadata": {
        "id": "HV5OKkZ12X_5"
      },
      "execution_count": null,
      "outputs": []
    },
    {
      "cell_type": "code",
      "source": [
        "np.argmax(y_test.values,axis=1)"
      ],
      "metadata": {
        "colab": {
          "base_uri": "https://localhost:8080/"
        },
        "id": "TFJ85b0y2JhS",
        "outputId": "c4446814-b37a-47b6-c3e5-3acb6f908b91"
      },
      "execution_count": null,
      "outputs": [
        {
          "output_type": "execute_result",
          "data": {
            "text/plain": [
              "array([0, 0, 0, 2, 2, 1, 2, 1, 2, 2, 2, 2, 2, 2, 0, 2, 1, 2, 0, 0, 0, 0,\n",
              "       2, 2, 1, 1, 0, 2, 2, 0, 2, 2, 0, 0, 2, 2, 1, 0])"
            ]
          },
          "metadata": {},
          "execution_count": 69
        }
      ]
    },
    {
      "cell_type": "code",
      "source": [
        "y_test=np.argmax(y_test.values,axis=1)"
      ],
      "metadata": {
        "id": "HR5x74Q72bW-"
      },
      "execution_count": null,
      "outputs": []
    },
    {
      "cell_type": "code",
      "source": [
        "from sklearn.metrics import classification_report, confusion_matrix"
      ],
      "metadata": {
        "id": "KWWCqWtSzvEH"
      },
      "execution_count": null,
      "outputs": []
    },
    {
      "cell_type": "code",
      "source": [
        "confusion_matrix(y_test,y_pred)"
      ],
      "metadata": {
        "colab": {
          "base_uri": "https://localhost:8080/"
        },
        "outputId": "119cd752-dd62-4c67-c3d5-ed104c85617f",
        "id": "g1EmHuBMzvEH"
      },
      "execution_count": null,
      "outputs": [
        {
          "output_type": "execute_result",
          "data": {
            "text/plain": [
              "array([[13,  0,  0],\n",
              "       [ 0,  6,  0],\n",
              "       [ 0, 19,  0]])"
            ]
          },
          "metadata": {},
          "execution_count": 75
        }
      ]
    },
    {
      "cell_type": "code",
      "source": [
        "print(classification_report(y_test,y_pred))"
      ],
      "metadata": {
        "colab": {
          "base_uri": "https://localhost:8080/"
        },
        "outputId": "249daeb3-578d-47aa-85cd-c8edddf156b6",
        "id": "Ne4zvHxrzvEI"
      },
      "execution_count": null,
      "outputs": [
        {
          "output_type": "stream",
          "name": "stdout",
          "text": [
            "              precision    recall  f1-score   support\n",
            "\n",
            "           0       1.00      1.00      1.00        13\n",
            "           1       0.24      1.00      0.39         6\n",
            "           2       0.00      0.00      0.00        19\n",
            "\n",
            "    accuracy                           0.50        38\n",
            "   macro avg       0.41      0.67      0.46        38\n",
            "weighted avg       0.38      0.50      0.40        38\n",
            "\n"
          ]
        },
        {
          "output_type": "stream",
          "name": "stderr",
          "text": [
            "/usr/local/lib/python3.8/dist-packages/sklearn/metrics/_classification.py:1318: UndefinedMetricWarning: Precision and F-score are ill-defined and being set to 0.0 in labels with no predicted samples. Use `zero_division` parameter to control this behavior.\n",
            "  _warn_prf(average, modifier, msg_start, len(result))\n",
            "/usr/local/lib/python3.8/dist-packages/sklearn/metrics/_classification.py:1318: UndefinedMetricWarning: Precision and F-score are ill-defined and being set to 0.0 in labels with no predicted samples. Use `zero_division` parameter to control this behavior.\n",
            "  _warn_prf(average, modifier, msg_start, len(result))\n",
            "/usr/local/lib/python3.8/dist-packages/sklearn/metrics/_classification.py:1318: UndefinedMetricWarning: Precision and F-score are ill-defined and being set to 0.0 in labels with no predicted samples. Use `zero_division` parameter to control this behavior.\n",
            "  _warn_prf(average, modifier, msg_start, len(result))\n"
          ]
        }
      ]
    },
    {
      "cell_type": "markdown",
      "source": [
        "# Regression"
      ],
      "metadata": {
        "id": "uCS3wCIa3Xto"
      }
    },
    {
      "cell_type": "code",
      "execution_count": null,
      "metadata": {
        "id": "dnOBwUxQ3ZHP"
      },
      "outputs": [],
      "source": [
        "# step 1: import library\n",
        "import pandas as pd\n",
        "import numpy as np"
      ]
    },
    {
      "cell_type": "code",
      "source": [
        "# step 2: import data\n",
        "house = pd.read_csv('https://github.com/YBIFoundation/Dataset/raw/main/Boston.csv')"
      ],
      "metadata": {
        "id": "jj7elmg93ZHP"
      },
      "execution_count": null,
      "outputs": []
    },
    {
      "cell_type": "code",
      "source": [
        "house.head()"
      ],
      "metadata": {
        "colab": {
          "base_uri": "https://localhost:8080/",
          "height": 206
        },
        "outputId": "9324ea7f-d172-48fa-e982-8d7b93b8774e",
        "id": "QCVpYPIb3ZHQ"
      },
      "execution_count": null,
      "outputs": [
        {
          "output_type": "execute_result",
          "data": {
            "text/plain": [
              "      CRIM    ZN  INDUS  CHAS     NX     RM   AGE     DIS  RAD    TAX  \\\n",
              "0  0.00632  18.0   2.31     0  0.538  6.575  65.2  4.0900    1  296.0   \n",
              "1  0.02731   0.0   7.07     0  0.469  6.421  78.9  4.9671    2  242.0   \n",
              "2  0.02729   0.0   7.07     0  0.469  7.185  61.1  4.9671    2  242.0   \n",
              "3  0.03237   0.0   2.18     0  0.458  6.998  45.8  6.0622    3  222.0   \n",
              "4  0.06905   0.0   2.18     0  0.458  7.147  54.2  6.0622    3  222.0   \n",
              "\n",
              "   PTRATIO       B  LSTAT  MEDV  \n",
              "0     15.3  396.90   4.98  24.0  \n",
              "1     17.8  396.90   9.14  21.6  \n",
              "2     17.8  392.83   4.03  34.7  \n",
              "3     18.7  394.63   2.94  33.4  \n",
              "4     18.7  396.90   5.33  36.2  "
            ],
            "text/html": [
              "\n",
              "  <div id=\"df-6f033d2d-ca69-48a9-9454-4ad107a62e1e\">\n",
              "    <div class=\"colab-df-container\">\n",
              "      <div>\n",
              "<style scoped>\n",
              "    .dataframe tbody tr th:only-of-type {\n",
              "        vertical-align: middle;\n",
              "    }\n",
              "\n",
              "    .dataframe tbody tr th {\n",
              "        vertical-align: top;\n",
              "    }\n",
              "\n",
              "    .dataframe thead th {\n",
              "        text-align: right;\n",
              "    }\n",
              "</style>\n",
              "<table border=\"1\" class=\"dataframe\">\n",
              "  <thead>\n",
              "    <tr style=\"text-align: right;\">\n",
              "      <th></th>\n",
              "      <th>CRIM</th>\n",
              "      <th>ZN</th>\n",
              "      <th>INDUS</th>\n",
              "      <th>CHAS</th>\n",
              "      <th>NX</th>\n",
              "      <th>RM</th>\n",
              "      <th>AGE</th>\n",
              "      <th>DIS</th>\n",
              "      <th>RAD</th>\n",
              "      <th>TAX</th>\n",
              "      <th>PTRATIO</th>\n",
              "      <th>B</th>\n",
              "      <th>LSTAT</th>\n",
              "      <th>MEDV</th>\n",
              "    </tr>\n",
              "  </thead>\n",
              "  <tbody>\n",
              "    <tr>\n",
              "      <th>0</th>\n",
              "      <td>0.00632</td>\n",
              "      <td>18.0</td>\n",
              "      <td>2.31</td>\n",
              "      <td>0</td>\n",
              "      <td>0.538</td>\n",
              "      <td>6.575</td>\n",
              "      <td>65.2</td>\n",
              "      <td>4.0900</td>\n",
              "      <td>1</td>\n",
              "      <td>296.0</td>\n",
              "      <td>15.3</td>\n",
              "      <td>396.90</td>\n",
              "      <td>4.98</td>\n",
              "      <td>24.0</td>\n",
              "    </tr>\n",
              "    <tr>\n",
              "      <th>1</th>\n",
              "      <td>0.02731</td>\n",
              "      <td>0.0</td>\n",
              "      <td>7.07</td>\n",
              "      <td>0</td>\n",
              "      <td>0.469</td>\n",
              "      <td>6.421</td>\n",
              "      <td>78.9</td>\n",
              "      <td>4.9671</td>\n",
              "      <td>2</td>\n",
              "      <td>242.0</td>\n",
              "      <td>17.8</td>\n",
              "      <td>396.90</td>\n",
              "      <td>9.14</td>\n",
              "      <td>21.6</td>\n",
              "    </tr>\n",
              "    <tr>\n",
              "      <th>2</th>\n",
              "      <td>0.02729</td>\n",
              "      <td>0.0</td>\n",
              "      <td>7.07</td>\n",
              "      <td>0</td>\n",
              "      <td>0.469</td>\n",
              "      <td>7.185</td>\n",
              "      <td>61.1</td>\n",
              "      <td>4.9671</td>\n",
              "      <td>2</td>\n",
              "      <td>242.0</td>\n",
              "      <td>17.8</td>\n",
              "      <td>392.83</td>\n",
              "      <td>4.03</td>\n",
              "      <td>34.7</td>\n",
              "    </tr>\n",
              "    <tr>\n",
              "      <th>3</th>\n",
              "      <td>0.03237</td>\n",
              "      <td>0.0</td>\n",
              "      <td>2.18</td>\n",
              "      <td>0</td>\n",
              "      <td>0.458</td>\n",
              "      <td>6.998</td>\n",
              "      <td>45.8</td>\n",
              "      <td>6.0622</td>\n",
              "      <td>3</td>\n",
              "      <td>222.0</td>\n",
              "      <td>18.7</td>\n",
              "      <td>394.63</td>\n",
              "      <td>2.94</td>\n",
              "      <td>33.4</td>\n",
              "    </tr>\n",
              "    <tr>\n",
              "      <th>4</th>\n",
              "      <td>0.06905</td>\n",
              "      <td>0.0</td>\n",
              "      <td>2.18</td>\n",
              "      <td>0</td>\n",
              "      <td>0.458</td>\n",
              "      <td>7.147</td>\n",
              "      <td>54.2</td>\n",
              "      <td>6.0622</td>\n",
              "      <td>3</td>\n",
              "      <td>222.0</td>\n",
              "      <td>18.7</td>\n",
              "      <td>396.90</td>\n",
              "      <td>5.33</td>\n",
              "      <td>36.2</td>\n",
              "    </tr>\n",
              "  </tbody>\n",
              "</table>\n",
              "</div>\n",
              "      <button class=\"colab-df-convert\" onclick=\"convertToInteractive('df-6f033d2d-ca69-48a9-9454-4ad107a62e1e')\"\n",
              "              title=\"Convert this dataframe to an interactive table.\"\n",
              "              style=\"display:none;\">\n",
              "        \n",
              "  <svg xmlns=\"http://www.w3.org/2000/svg\" height=\"24px\"viewBox=\"0 0 24 24\"\n",
              "       width=\"24px\">\n",
              "    <path d=\"M0 0h24v24H0V0z\" fill=\"none\"/>\n",
              "    <path d=\"M18.56 5.44l.94 2.06.94-2.06 2.06-.94-2.06-.94-.94-2.06-.94 2.06-2.06.94zm-11 1L8.5 8.5l.94-2.06 2.06-.94-2.06-.94L8.5 2.5l-.94 2.06-2.06.94zm10 10l.94 2.06.94-2.06 2.06-.94-2.06-.94-.94-2.06-.94 2.06-2.06.94z\"/><path d=\"M17.41 7.96l-1.37-1.37c-.4-.4-.92-.59-1.43-.59-.52 0-1.04.2-1.43.59L10.3 9.45l-7.72 7.72c-.78.78-.78 2.05 0 2.83L4 21.41c.39.39.9.59 1.41.59.51 0 1.02-.2 1.41-.59l7.78-7.78 2.81-2.81c.8-.78.8-2.07 0-2.86zM5.41 20L4 18.59l7.72-7.72 1.47 1.35L5.41 20z\"/>\n",
              "  </svg>\n",
              "      </button>\n",
              "      \n",
              "  <style>\n",
              "    .colab-df-container {\n",
              "      display:flex;\n",
              "      flex-wrap:wrap;\n",
              "      gap: 12px;\n",
              "    }\n",
              "\n",
              "    .colab-df-convert {\n",
              "      background-color: #E8F0FE;\n",
              "      border: none;\n",
              "      border-radius: 50%;\n",
              "      cursor: pointer;\n",
              "      display: none;\n",
              "      fill: #1967D2;\n",
              "      height: 32px;\n",
              "      padding: 0 0 0 0;\n",
              "      width: 32px;\n",
              "    }\n",
              "\n",
              "    .colab-df-convert:hover {\n",
              "      background-color: #E2EBFA;\n",
              "      box-shadow: 0px 1px 2px rgba(60, 64, 67, 0.3), 0px 1px 3px 1px rgba(60, 64, 67, 0.15);\n",
              "      fill: #174EA6;\n",
              "    }\n",
              "\n",
              "    [theme=dark] .colab-df-convert {\n",
              "      background-color: #3B4455;\n",
              "      fill: #D2E3FC;\n",
              "    }\n",
              "\n",
              "    [theme=dark] .colab-df-convert:hover {\n",
              "      background-color: #434B5C;\n",
              "      box-shadow: 0px 1px 3px 1px rgba(0, 0, 0, 0.15);\n",
              "      filter: drop-shadow(0px 1px 2px rgba(0, 0, 0, 0.3));\n",
              "      fill: #FFFFFF;\n",
              "    }\n",
              "  </style>\n",
              "\n",
              "      <script>\n",
              "        const buttonEl =\n",
              "          document.querySelector('#df-6f033d2d-ca69-48a9-9454-4ad107a62e1e button.colab-df-convert');\n",
              "        buttonEl.style.display =\n",
              "          google.colab.kernel.accessAllowed ? 'block' : 'none';\n",
              "\n",
              "        async function convertToInteractive(key) {\n",
              "          const element = document.querySelector('#df-6f033d2d-ca69-48a9-9454-4ad107a62e1e');\n",
              "          const dataTable =\n",
              "            await google.colab.kernel.invokeFunction('convertToInteractive',\n",
              "                                                     [key], {});\n",
              "          if (!dataTable) return;\n",
              "\n",
              "          const docLinkHtml = 'Like what you see? Visit the ' +\n",
              "            '<a target=\"_blank\" href=https://colab.research.google.com/notebooks/data_table.ipynb>data table notebook</a>'\n",
              "            + ' to learn more about interactive tables.';\n",
              "          element.innerHTML = '';\n",
              "          dataTable['output_type'] = 'display_data';\n",
              "          await google.colab.output.renderOutput(dataTable, element);\n",
              "          const docLink = document.createElement('div');\n",
              "          docLink.innerHTML = docLinkHtml;\n",
              "          element.appendChild(docLink);\n",
              "        }\n",
              "      </script>\n",
              "    </div>\n",
              "  </div>\n",
              "  "
            ]
          },
          "metadata": {},
          "execution_count": 79
        }
      ]
    },
    {
      "cell_type": "code",
      "source": [
        "# step 3: define y and X"
      ],
      "metadata": {
        "id": "PQXt63e73ZHQ"
      },
      "execution_count": null,
      "outputs": []
    },
    {
      "cell_type": "code",
      "source": [
        "y = house['MEDV']\n",
        "X = house.drop(['MEDV'],axis=1)"
      ],
      "metadata": {
        "id": "jK4krpIQ3ZHQ"
      },
      "execution_count": null,
      "outputs": []
    },
    {
      "cell_type": "code",
      "source": [
        "X.shape"
      ],
      "metadata": {
        "colab": {
          "base_uri": "https://localhost:8080/"
        },
        "outputId": "514a24eb-fc90-4709-b1e0-ee01010220f2",
        "id": "iYJVchhr3ZHQ"
      },
      "execution_count": null,
      "outputs": [
        {
          "output_type": "execute_result",
          "data": {
            "text/plain": [
              "(506, 13)"
            ]
          },
          "metadata": {},
          "execution_count": 81
        }
      ]
    },
    {
      "cell_type": "code",
      "source": [
        "# step 4: split data\n",
        "from sklearn.model_selection import train_test_split\n",
        "X_train,X_test,y_train,y_test=train_test_split(X,y,random_state=2529)"
      ],
      "metadata": {
        "id": "HF9E9fuZ3ZHQ"
      },
      "execution_count": null,
      "outputs": []
    },
    {
      "cell_type": "code",
      "source": [
        "# step 5: standardize\n",
        "from sklearn.preprocessing import StandardScaler\n",
        "ss = StandardScaler()"
      ],
      "metadata": {
        "id": "p9aJBxWQ3ZHR"
      },
      "execution_count": null,
      "outputs": []
    },
    {
      "cell_type": "code",
      "source": [
        "X_train = ss.fit_transform(X_train)"
      ],
      "metadata": {
        "id": "Nh5KCqM83ZHR"
      },
      "execution_count": null,
      "outputs": []
    },
    {
      "cell_type": "code",
      "source": [
        "X_test = ss.transform(X_test)"
      ],
      "metadata": {
        "id": "J5LswjQ73ZHR"
      },
      "execution_count": null,
      "outputs": []
    },
    {
      "cell_type": "code",
      "source": [
        "# step 6: model"
      ],
      "metadata": {
        "id": "lIN0X7Qv3ZHR"
      },
      "execution_count": null,
      "outputs": []
    },
    {
      "cell_type": "code",
      "source": [
        "from keras.models import Sequential\n",
        "from keras.layers import Dense\n",
        "model = Sequential()"
      ],
      "metadata": {
        "id": "7ddSF1OQ3ZHR"
      },
      "execution_count": null,
      "outputs": []
    },
    {
      "cell_type": "code",
      "source": [
        "model.add(Dense(14,activation= 'relu'))"
      ],
      "metadata": {
        "id": "VALc5eqE3ZHS"
      },
      "execution_count": null,
      "outputs": []
    },
    {
      "cell_type": "code",
      "source": [
        "model.add(Dense(28,activation= 'relu'))"
      ],
      "metadata": {
        "id": "SGtb6hYr3ZHS"
      },
      "execution_count": null,
      "outputs": []
    },
    {
      "cell_type": "code",
      "source": [
        "model.add(Dense(28,activation= 'relu'))"
      ],
      "metadata": {
        "id": "kpzKxmLE3ZHS"
      },
      "execution_count": null,
      "outputs": []
    },
    {
      "cell_type": "code",
      "source": [
        "model.add(Dense(13,activation= 'relu'))"
      ],
      "metadata": {
        "id": "s_UXXOrc3ZHS"
      },
      "execution_count": null,
      "outputs": []
    },
    {
      "cell_type": "code",
      "source": [
        "model.add(Dense(1,activation= 'linear'))"
      ],
      "metadata": {
        "id": "Esmx4DQ03ZHS"
      },
      "execution_count": null,
      "outputs": []
    },
    {
      "cell_type": "code",
      "source": [
        "model.compile(optimizer='adam',loss='mean_absolute_error', metrics=['mean_absolute_error']    )"
      ],
      "metadata": {
        "id": "y9E7zrFi3ZHS"
      },
      "execution_count": null,
      "outputs": []
    },
    {
      "cell_type": "code",
      "source": [
        "model.fit(X_train,y_train,batch_size=32,epochs=200,verbose=1)"
      ],
      "metadata": {
        "colab": {
          "base_uri": "https://localhost:8080/"
        },
        "outputId": "ad646640-b0d5-4600-d096-9df58a1421f7",
        "id": "aBIYOT8r3ZHS"
      },
      "execution_count": null,
      "outputs": [
        {
          "output_type": "stream",
          "name": "stdout",
          "text": [
            "Epoch 1/200\n",
            "12/12 [==============================] - 0s 2ms/step - loss: 3.3344 - mean_absolute_error: 3.3344\n",
            "Epoch 2/200\n",
            "12/12 [==============================] - 0s 2ms/step - loss: 3.2527 - mean_absolute_error: 3.2527\n",
            "Epoch 3/200\n",
            "12/12 [==============================] - 0s 2ms/step - loss: 3.2167 - mean_absolute_error: 3.2167\n",
            "Epoch 4/200\n",
            "12/12 [==============================] - 0s 2ms/step - loss: 3.1579 - mean_absolute_error: 3.1579\n",
            "Epoch 5/200\n",
            "12/12 [==============================] - 0s 2ms/step - loss: 3.1325 - mean_absolute_error: 3.1325\n",
            "Epoch 6/200\n",
            "12/12 [==============================] - 0s 3ms/step - loss: 3.1073 - mean_absolute_error: 3.1073\n",
            "Epoch 7/200\n",
            "12/12 [==============================] - 0s 2ms/step - loss: 3.0779 - mean_absolute_error: 3.0779\n",
            "Epoch 8/200\n",
            "12/12 [==============================] - 0s 2ms/step - loss: 3.0090 - mean_absolute_error: 3.0090\n",
            "Epoch 9/200\n",
            "12/12 [==============================] - 0s 2ms/step - loss: 2.9605 - mean_absolute_error: 2.9605\n",
            "Epoch 10/200\n",
            "12/12 [==============================] - 0s 3ms/step - loss: 2.9476 - mean_absolute_error: 2.9476\n",
            "Epoch 11/200\n",
            "12/12 [==============================] - 0s 2ms/step - loss: 2.9067 - mean_absolute_error: 2.9067\n",
            "Epoch 12/200\n",
            "12/12 [==============================] - 0s 2ms/step - loss: 2.8809 - mean_absolute_error: 2.8809\n",
            "Epoch 13/200\n",
            "12/12 [==============================] - 0s 2ms/step - loss: 2.8442 - mean_absolute_error: 2.8442\n",
            "Epoch 14/200\n",
            "12/12 [==============================] - 0s 2ms/step - loss: 2.8015 - mean_absolute_error: 2.8015\n",
            "Epoch 15/200\n",
            "12/12 [==============================] - 0s 2ms/step - loss: 2.8361 - mean_absolute_error: 2.8361\n",
            "Epoch 16/200\n",
            "12/12 [==============================] - 0s 2ms/step - loss: 2.7764 - mean_absolute_error: 2.7764\n",
            "Epoch 17/200\n",
            "12/12 [==============================] - 0s 2ms/step - loss: 2.7469 - mean_absolute_error: 2.7469\n",
            "Epoch 18/200\n",
            "12/12 [==============================] - 0s 2ms/step - loss: 2.7114 - mean_absolute_error: 2.7114\n",
            "Epoch 19/200\n",
            "12/12 [==============================] - 0s 2ms/step - loss: 2.6737 - mean_absolute_error: 2.6737\n",
            "Epoch 20/200\n",
            "12/12 [==============================] - 0s 2ms/step - loss: 2.6561 - mean_absolute_error: 2.6561\n",
            "Epoch 21/200\n",
            "12/12 [==============================] - 0s 2ms/step - loss: 2.6504 - mean_absolute_error: 2.6504\n",
            "Epoch 22/200\n",
            "12/12 [==============================] - 0s 2ms/step - loss: 2.6201 - mean_absolute_error: 2.6201\n",
            "Epoch 23/200\n",
            "12/12 [==============================] - 0s 2ms/step - loss: 2.6365 - mean_absolute_error: 2.6365\n",
            "Epoch 24/200\n",
            "12/12 [==============================] - 0s 2ms/step - loss: 2.5756 - mean_absolute_error: 2.5756\n",
            "Epoch 25/200\n",
            "12/12 [==============================] - 0s 2ms/step - loss: 2.5814 - mean_absolute_error: 2.5814\n",
            "Epoch 26/200\n",
            "12/12 [==============================] - 0s 2ms/step - loss: 2.5421 - mean_absolute_error: 2.5421\n",
            "Epoch 27/200\n",
            "12/12 [==============================] - 0s 2ms/step - loss: 2.5326 - mean_absolute_error: 2.5326\n",
            "Epoch 28/200\n",
            "12/12 [==============================] - 0s 2ms/step - loss: 2.5122 - mean_absolute_error: 2.5122\n",
            "Epoch 29/200\n",
            "12/12 [==============================] - 0s 2ms/step - loss: 2.5360 - mean_absolute_error: 2.5360\n",
            "Epoch 30/200\n",
            "12/12 [==============================] - 0s 2ms/step - loss: 2.5065 - mean_absolute_error: 2.5065\n",
            "Epoch 31/200\n",
            "12/12 [==============================] - 0s 2ms/step - loss: 2.4587 - mean_absolute_error: 2.4587\n",
            "Epoch 32/200\n",
            "12/12 [==============================] - 0s 2ms/step - loss: 2.4385 - mean_absolute_error: 2.4385\n",
            "Epoch 33/200\n",
            "12/12 [==============================] - 0s 2ms/step - loss: 2.4498 - mean_absolute_error: 2.4498\n",
            "Epoch 34/200\n",
            "12/12 [==============================] - 0s 2ms/step - loss: 2.4530 - mean_absolute_error: 2.4530\n",
            "Epoch 35/200\n",
            "12/12 [==============================] - 0s 2ms/step - loss: 2.4140 - mean_absolute_error: 2.4140\n",
            "Epoch 36/200\n",
            "12/12 [==============================] - 0s 3ms/step - loss: 2.3874 - mean_absolute_error: 2.3874\n",
            "Epoch 37/200\n",
            "12/12 [==============================] - 0s 2ms/step - loss: 2.3771 - mean_absolute_error: 2.3771\n",
            "Epoch 38/200\n",
            "12/12 [==============================] - 0s 2ms/step - loss: 2.4062 - mean_absolute_error: 2.4062\n",
            "Epoch 39/200\n",
            "12/12 [==============================] - 0s 2ms/step - loss: 2.4044 - mean_absolute_error: 2.4044\n",
            "Epoch 40/200\n",
            "12/12 [==============================] - 0s 2ms/step - loss: 2.3754 - mean_absolute_error: 2.3754\n",
            "Epoch 41/200\n",
            "12/12 [==============================] - 0s 2ms/step - loss: 2.4338 - mean_absolute_error: 2.4338\n",
            "Epoch 42/200\n",
            "12/12 [==============================] - 0s 2ms/step - loss: 2.3909 - mean_absolute_error: 2.3909\n",
            "Epoch 43/200\n",
            "12/12 [==============================] - 0s 2ms/step - loss: 2.3529 - mean_absolute_error: 2.3529\n",
            "Epoch 44/200\n",
            "12/12 [==============================] - 0s 2ms/step - loss: 2.3348 - mean_absolute_error: 2.3348\n",
            "Epoch 45/200\n",
            "12/12 [==============================] - 0s 2ms/step - loss: 2.3073 - mean_absolute_error: 2.3073\n",
            "Epoch 46/200\n",
            "12/12 [==============================] - 0s 2ms/step - loss: 2.2911 - mean_absolute_error: 2.2911\n",
            "Epoch 47/200\n",
            "12/12 [==============================] - 0s 2ms/step - loss: 2.3058 - mean_absolute_error: 2.3058\n",
            "Epoch 48/200\n",
            "12/12 [==============================] - 0s 2ms/step - loss: 2.2993 - mean_absolute_error: 2.2993\n",
            "Epoch 49/200\n",
            "12/12 [==============================] - 0s 2ms/step - loss: 2.2736 - mean_absolute_error: 2.2736\n",
            "Epoch 50/200\n",
            "12/12 [==============================] - 0s 2ms/step - loss: 2.2602 - mean_absolute_error: 2.2602\n",
            "Epoch 51/200\n",
            "12/12 [==============================] - 0s 2ms/step - loss: 2.2289 - mean_absolute_error: 2.2289\n",
            "Epoch 52/200\n",
            "12/12 [==============================] - 0s 2ms/step - loss: 2.2557 - mean_absolute_error: 2.2557\n",
            "Epoch 53/200\n",
            "12/12 [==============================] - 0s 2ms/step - loss: 2.2379 - mean_absolute_error: 2.2379\n",
            "Epoch 54/200\n",
            "12/12 [==============================] - 0s 2ms/step - loss: 2.2387 - mean_absolute_error: 2.2387\n",
            "Epoch 55/200\n",
            "12/12 [==============================] - 0s 2ms/step - loss: 2.1998 - mean_absolute_error: 2.1998\n",
            "Epoch 56/200\n",
            "12/12 [==============================] - 0s 2ms/step - loss: 2.2124 - mean_absolute_error: 2.2124\n",
            "Epoch 57/200\n",
            "12/12 [==============================] - 0s 2ms/step - loss: 2.2231 - mean_absolute_error: 2.2231\n",
            "Epoch 58/200\n",
            "12/12 [==============================] - 0s 2ms/step - loss: 2.1784 - mean_absolute_error: 2.1784\n",
            "Epoch 59/200\n",
            "12/12 [==============================] - 0s 2ms/step - loss: 2.1481 - mean_absolute_error: 2.1481\n",
            "Epoch 60/200\n",
            "12/12 [==============================] - 0s 2ms/step - loss: 2.1288 - mean_absolute_error: 2.1288\n",
            "Epoch 61/200\n",
            "12/12 [==============================] - 0s 2ms/step - loss: 2.1241 - mean_absolute_error: 2.1241\n",
            "Epoch 62/200\n",
            "12/12 [==============================] - 0s 2ms/step - loss: 2.1292 - mean_absolute_error: 2.1292\n",
            "Epoch 63/200\n",
            "12/12 [==============================] - 0s 2ms/step - loss: 2.1170 - mean_absolute_error: 2.1170\n",
            "Epoch 64/200\n",
            "12/12 [==============================] - 0s 2ms/step - loss: 2.0957 - mean_absolute_error: 2.0957\n",
            "Epoch 65/200\n",
            "12/12 [==============================] - 0s 2ms/step - loss: 2.0809 - mean_absolute_error: 2.0809\n",
            "Epoch 66/200\n",
            "12/12 [==============================] - 0s 2ms/step - loss: 2.1220 - mean_absolute_error: 2.1220\n",
            "Epoch 67/200\n",
            "12/12 [==============================] - 0s 2ms/step - loss: 2.0842 - mean_absolute_error: 2.0842\n",
            "Epoch 68/200\n",
            "12/12 [==============================] - 0s 2ms/step - loss: 2.0988 - mean_absolute_error: 2.0988\n",
            "Epoch 69/200\n",
            "12/12 [==============================] - 0s 2ms/step - loss: 2.0600 - mean_absolute_error: 2.0600\n",
            "Epoch 70/200\n",
            "12/12 [==============================] - 0s 2ms/step - loss: 2.0546 - mean_absolute_error: 2.0546\n",
            "Epoch 71/200\n",
            "12/12 [==============================] - 0s 2ms/step - loss: 2.0548 - mean_absolute_error: 2.0548\n",
            "Epoch 72/200\n",
            "12/12 [==============================] - 0s 2ms/step - loss: 2.0804 - mean_absolute_error: 2.0804\n",
            "Epoch 73/200\n",
            "12/12 [==============================] - 0s 2ms/step - loss: 2.0230 - mean_absolute_error: 2.0230\n",
            "Epoch 74/200\n",
            "12/12 [==============================] - 0s 2ms/step - loss: 2.0133 - mean_absolute_error: 2.0133\n",
            "Epoch 75/200\n",
            "12/12 [==============================] - 0s 2ms/step - loss: 2.0158 - mean_absolute_error: 2.0158\n",
            "Epoch 76/200\n",
            "12/12 [==============================] - 0s 2ms/step - loss: 1.9960 - mean_absolute_error: 1.9960\n",
            "Epoch 77/200\n",
            "12/12 [==============================] - 0s 2ms/step - loss: 2.0012 - mean_absolute_error: 2.0012\n",
            "Epoch 78/200\n",
            "12/12 [==============================] - 0s 2ms/step - loss: 1.9779 - mean_absolute_error: 1.9779\n",
            "Epoch 79/200\n",
            "12/12 [==============================] - 0s 2ms/step - loss: 1.9614 - mean_absolute_error: 1.9614\n",
            "Epoch 80/200\n",
            "12/12 [==============================] - 0s 2ms/step - loss: 1.9791 - mean_absolute_error: 1.9791\n",
            "Epoch 81/200\n",
            "12/12 [==============================] - 0s 2ms/step - loss: 1.9761 - mean_absolute_error: 1.9761\n",
            "Epoch 82/200\n",
            "12/12 [==============================] - 0s 2ms/step - loss: 1.9516 - mean_absolute_error: 1.9516\n",
            "Epoch 83/200\n",
            "12/12 [==============================] - 0s 2ms/step - loss: 1.9363 - mean_absolute_error: 1.9363\n",
            "Epoch 84/200\n",
            "12/12 [==============================] - 0s 2ms/step - loss: 1.9245 - mean_absolute_error: 1.9245\n",
            "Epoch 85/200\n",
            "12/12 [==============================] - 0s 2ms/step - loss: 1.9486 - mean_absolute_error: 1.9486\n",
            "Epoch 86/200\n",
            "12/12 [==============================] - 0s 2ms/step - loss: 1.9345 - mean_absolute_error: 1.9345\n",
            "Epoch 87/200\n",
            "12/12 [==============================] - 0s 2ms/step - loss: 1.9599 - mean_absolute_error: 1.9599\n",
            "Epoch 88/200\n",
            "12/12 [==============================] - 0s 2ms/step - loss: 1.8914 - mean_absolute_error: 1.8914\n",
            "Epoch 89/200\n",
            "12/12 [==============================] - 0s 2ms/step - loss: 1.9133 - mean_absolute_error: 1.9133\n",
            "Epoch 90/200\n",
            "12/12 [==============================] - 0s 2ms/step - loss: 1.9089 - mean_absolute_error: 1.9089\n",
            "Epoch 91/200\n",
            "12/12 [==============================] - 0s 2ms/step - loss: 1.8727 - mean_absolute_error: 1.8727\n",
            "Epoch 92/200\n",
            "12/12 [==============================] - 0s 2ms/step - loss: 1.8557 - mean_absolute_error: 1.8557\n",
            "Epoch 93/200\n",
            "12/12 [==============================] - 0s 2ms/step - loss: 1.8675 - mean_absolute_error: 1.8675\n",
            "Epoch 94/200\n",
            "12/12 [==============================] - 0s 2ms/step - loss: 1.8481 - mean_absolute_error: 1.8481\n",
            "Epoch 95/200\n",
            "12/12 [==============================] - 0s 2ms/step - loss: 1.8555 - mean_absolute_error: 1.8555\n",
            "Epoch 96/200\n",
            "12/12 [==============================] - 0s 2ms/step - loss: 1.8389 - mean_absolute_error: 1.8389\n",
            "Epoch 97/200\n",
            "12/12 [==============================] - 0s 2ms/step - loss: 1.8427 - mean_absolute_error: 1.8427\n",
            "Epoch 98/200\n",
            "12/12 [==============================] - 0s 2ms/step - loss: 1.8120 - mean_absolute_error: 1.8120\n",
            "Epoch 99/200\n",
            "12/12 [==============================] - 0s 2ms/step - loss: 1.8261 - mean_absolute_error: 1.8261\n",
            "Epoch 100/200\n",
            "12/12 [==============================] - 0s 2ms/step - loss: 1.8397 - mean_absolute_error: 1.8397\n",
            "Epoch 101/200\n",
            "12/12 [==============================] - 0s 2ms/step - loss: 1.8235 - mean_absolute_error: 1.8235\n",
            "Epoch 102/200\n",
            "12/12 [==============================] - 0s 2ms/step - loss: 1.8050 - mean_absolute_error: 1.8050\n",
            "Epoch 103/200\n",
            "12/12 [==============================] - 0s 2ms/step - loss: 1.8012 - mean_absolute_error: 1.8012\n",
            "Epoch 104/200\n",
            "12/12 [==============================] - 0s 2ms/step - loss: 1.7863 - mean_absolute_error: 1.7863\n",
            "Epoch 105/200\n",
            "12/12 [==============================] - 0s 2ms/step - loss: 1.7932 - mean_absolute_error: 1.7932\n",
            "Epoch 106/200\n",
            "12/12 [==============================] - 0s 2ms/step - loss: 1.7811 - mean_absolute_error: 1.7811\n",
            "Epoch 107/200\n",
            "12/12 [==============================] - 0s 2ms/step - loss: 1.7853 - mean_absolute_error: 1.7853\n",
            "Epoch 108/200\n",
            "12/12 [==============================] - 0s 2ms/step - loss: 1.7681 - mean_absolute_error: 1.7681\n",
            "Epoch 109/200\n",
            "12/12 [==============================] - 0s 2ms/step - loss: 1.7909 - mean_absolute_error: 1.7909\n",
            "Epoch 110/200\n",
            "12/12 [==============================] - 0s 2ms/step - loss: 1.7572 - mean_absolute_error: 1.7572\n",
            "Epoch 111/200\n",
            "12/12 [==============================] - 0s 2ms/step - loss: 1.7509 - mean_absolute_error: 1.7509\n",
            "Epoch 112/200\n",
            "12/12 [==============================] - 0s 2ms/step - loss: 1.7478 - mean_absolute_error: 1.7478\n",
            "Epoch 113/200\n",
            "12/12 [==============================] - 0s 2ms/step - loss: 1.7387 - mean_absolute_error: 1.7387\n",
            "Epoch 114/200\n",
            "12/12 [==============================] - 0s 2ms/step - loss: 1.8114 - mean_absolute_error: 1.8114\n",
            "Epoch 115/200\n",
            "12/12 [==============================] - 0s 2ms/step - loss: 1.8198 - mean_absolute_error: 1.8198\n",
            "Epoch 116/200\n",
            "12/12 [==============================] - 0s 2ms/step - loss: 1.7602 - mean_absolute_error: 1.7602\n",
            "Epoch 117/200\n",
            "12/12 [==============================] - 0s 3ms/step - loss: 1.7582 - mean_absolute_error: 1.7582\n",
            "Epoch 118/200\n",
            "12/12 [==============================] - 0s 2ms/step - loss: 1.7487 - mean_absolute_error: 1.7487\n",
            "Epoch 119/200\n",
            "12/12 [==============================] - 0s 2ms/step - loss: 1.7627 - mean_absolute_error: 1.7627\n",
            "Epoch 120/200\n",
            "12/12 [==============================] - 0s 2ms/step - loss: 1.7269 - mean_absolute_error: 1.7269\n",
            "Epoch 121/200\n",
            "12/12 [==============================] - 0s 2ms/step - loss: 1.7172 - mean_absolute_error: 1.7172\n",
            "Epoch 122/200\n",
            "12/12 [==============================] - 0s 2ms/step - loss: 1.7386 - mean_absolute_error: 1.7386\n",
            "Epoch 123/200\n",
            "12/12 [==============================] - 0s 2ms/step - loss: 1.7379 - mean_absolute_error: 1.7379\n",
            "Epoch 124/200\n",
            "12/12 [==============================] - 0s 2ms/step - loss: 1.7205 - mean_absolute_error: 1.7205\n",
            "Epoch 125/200\n",
            "12/12 [==============================] - 0s 2ms/step - loss: 1.7067 - mean_absolute_error: 1.7067\n",
            "Epoch 126/200\n",
            "12/12 [==============================] - 0s 2ms/step - loss: 1.7012 - mean_absolute_error: 1.7012\n",
            "Epoch 127/200\n",
            "12/12 [==============================] - 0s 2ms/step - loss: 1.7068 - mean_absolute_error: 1.7068\n",
            "Epoch 128/200\n",
            "12/12 [==============================] - 0s 3ms/step - loss: 1.6892 - mean_absolute_error: 1.6892\n",
            "Epoch 129/200\n",
            "12/12 [==============================] - 0s 3ms/step - loss: 1.7012 - mean_absolute_error: 1.7012\n",
            "Epoch 130/200\n",
            "12/12 [==============================] - 0s 2ms/step - loss: 1.7123 - mean_absolute_error: 1.7123\n",
            "Epoch 131/200\n",
            "12/12 [==============================] - 0s 2ms/step - loss: 1.7558 - mean_absolute_error: 1.7558\n",
            "Epoch 132/200\n",
            "12/12 [==============================] - 0s 2ms/step - loss: 1.7085 - mean_absolute_error: 1.7085\n",
            "Epoch 133/200\n",
            "12/12 [==============================] - 0s 3ms/step - loss: 1.6869 - mean_absolute_error: 1.6869\n",
            "Epoch 134/200\n",
            "12/12 [==============================] - 0s 2ms/step - loss: 1.6933 - mean_absolute_error: 1.6933\n",
            "Epoch 135/200\n",
            "12/12 [==============================] - 0s 4ms/step - loss: 1.6909 - mean_absolute_error: 1.6909\n",
            "Epoch 136/200\n",
            "12/12 [==============================] - 0s 3ms/step - loss: 1.6715 - mean_absolute_error: 1.6715\n",
            "Epoch 137/200\n",
            "12/12 [==============================] - 0s 2ms/step - loss: 1.7039 - mean_absolute_error: 1.7039\n",
            "Epoch 138/200\n",
            "12/12 [==============================] - 0s 3ms/step - loss: 1.7151 - mean_absolute_error: 1.7151\n",
            "Epoch 139/200\n",
            "12/12 [==============================] - 0s 2ms/step - loss: 1.6687 - mean_absolute_error: 1.6687\n",
            "Epoch 140/200\n",
            "12/12 [==============================] - 0s 2ms/step - loss: 1.6577 - mean_absolute_error: 1.6577\n",
            "Epoch 141/200\n",
            "12/12 [==============================] - 0s 3ms/step - loss: 1.6750 - mean_absolute_error: 1.6750\n",
            "Epoch 142/200\n",
            "12/12 [==============================] - 0s 4ms/step - loss: 1.6465 - mean_absolute_error: 1.6465\n",
            "Epoch 143/200\n",
            "12/12 [==============================] - 0s 4ms/step - loss: 1.6191 - mean_absolute_error: 1.6191\n",
            "Epoch 144/200\n",
            "12/12 [==============================] - 0s 3ms/step - loss: 1.6273 - mean_absolute_error: 1.6273\n",
            "Epoch 145/200\n",
            "12/12 [==============================] - 0s 3ms/step - loss: 1.6143 - mean_absolute_error: 1.6143\n",
            "Epoch 146/200\n",
            "12/12 [==============================] - 0s 3ms/step - loss: 1.6494 - mean_absolute_error: 1.6494\n",
            "Epoch 147/200\n",
            "12/12 [==============================] - 0s 3ms/step - loss: 1.6266 - mean_absolute_error: 1.6266\n",
            "Epoch 148/200\n",
            "12/12 [==============================] - 0s 3ms/step - loss: 1.5940 - mean_absolute_error: 1.5940\n",
            "Epoch 149/200\n",
            "12/12 [==============================] - 0s 3ms/step - loss: 1.6428 - mean_absolute_error: 1.6428\n",
            "Epoch 150/200\n",
            "12/12 [==============================] - 0s 2ms/step - loss: 1.6055 - mean_absolute_error: 1.6055\n",
            "Epoch 151/200\n",
            "12/12 [==============================] - 0s 2ms/step - loss: 1.6517 - mean_absolute_error: 1.6517\n",
            "Epoch 152/200\n",
            "12/12 [==============================] - 0s 3ms/step - loss: 1.6194 - mean_absolute_error: 1.6194\n",
            "Epoch 153/200\n",
            "12/12 [==============================] - 0s 2ms/step - loss: 1.5900 - mean_absolute_error: 1.5900\n",
            "Epoch 154/200\n",
            "12/12 [==============================] - 0s 3ms/step - loss: 1.6152 - mean_absolute_error: 1.6152\n",
            "Epoch 155/200\n",
            "12/12 [==============================] - 0s 3ms/step - loss: 1.5751 - mean_absolute_error: 1.5751\n",
            "Epoch 156/200\n",
            "12/12 [==============================] - 0s 3ms/step - loss: 1.5992 - mean_absolute_error: 1.5992\n",
            "Epoch 157/200\n",
            "12/12 [==============================] - 0s 3ms/step - loss: 1.6268 - mean_absolute_error: 1.6268\n",
            "Epoch 158/200\n",
            "12/12 [==============================] - 0s 3ms/step - loss: 1.6152 - mean_absolute_error: 1.6152\n",
            "Epoch 159/200\n",
            "12/12 [==============================] - 0s 4ms/step - loss: 1.5597 - mean_absolute_error: 1.5597\n",
            "Epoch 160/200\n",
            "12/12 [==============================] - 0s 3ms/step - loss: 1.5598 - mean_absolute_error: 1.5598\n",
            "Epoch 161/200\n",
            "12/12 [==============================] - 0s 3ms/step - loss: 1.5818 - mean_absolute_error: 1.5818\n",
            "Epoch 162/200\n",
            "12/12 [==============================] - 0s 3ms/step - loss: 1.6368 - mean_absolute_error: 1.6368\n",
            "Epoch 163/200\n",
            "12/12 [==============================] - 0s 3ms/step - loss: 1.5987 - mean_absolute_error: 1.5987\n",
            "Epoch 164/200\n",
            "12/12 [==============================] - 0s 3ms/step - loss: 1.5783 - mean_absolute_error: 1.5783\n",
            "Epoch 165/200\n",
            "12/12 [==============================] - 0s 3ms/step - loss: 1.5653 - mean_absolute_error: 1.5653\n",
            "Epoch 166/200\n",
            "12/12 [==============================] - 0s 2ms/step - loss: 1.5617 - mean_absolute_error: 1.5617\n",
            "Epoch 167/200\n",
            "12/12 [==============================] - 0s 2ms/step - loss: 1.5431 - mean_absolute_error: 1.5431\n",
            "Epoch 168/200\n",
            "12/12 [==============================] - 0s 2ms/step - loss: 1.6169 - mean_absolute_error: 1.6169\n",
            "Epoch 169/200\n",
            "12/12 [==============================] - 0s 2ms/step - loss: 1.6283 - mean_absolute_error: 1.6283\n",
            "Epoch 170/200\n",
            "12/12 [==============================] - 0s 2ms/step - loss: 1.5429 - mean_absolute_error: 1.5429\n",
            "Epoch 171/200\n",
            "12/12 [==============================] - 0s 2ms/step - loss: 1.5418 - mean_absolute_error: 1.5418\n",
            "Epoch 172/200\n",
            "12/12 [==============================] - 0s 2ms/step - loss: 1.5314 - mean_absolute_error: 1.5314\n",
            "Epoch 173/200\n",
            "12/12 [==============================] - 0s 2ms/step - loss: 1.5536 - mean_absolute_error: 1.5536\n",
            "Epoch 174/200\n",
            "12/12 [==============================] - 0s 2ms/step - loss: 1.5146 - mean_absolute_error: 1.5146\n",
            "Epoch 175/200\n",
            "12/12 [==============================] - 0s 2ms/step - loss: 1.5471 - mean_absolute_error: 1.5471\n",
            "Epoch 176/200\n",
            "12/12 [==============================] - 0s 2ms/step - loss: 1.5343 - mean_absolute_error: 1.5343\n",
            "Epoch 177/200\n",
            "12/12 [==============================] - 0s 2ms/step - loss: 1.4950 - mean_absolute_error: 1.4950\n",
            "Epoch 178/200\n",
            "12/12 [==============================] - 0s 2ms/step - loss: 1.5232 - mean_absolute_error: 1.5232\n",
            "Epoch 179/200\n",
            "12/12 [==============================] - 0s 2ms/step - loss: 1.5248 - mean_absolute_error: 1.5248\n",
            "Epoch 180/200\n",
            "12/12 [==============================] - 0s 2ms/step - loss: 1.5171 - mean_absolute_error: 1.5171\n",
            "Epoch 181/200\n",
            "12/12 [==============================] - 0s 2ms/step - loss: 1.5262 - mean_absolute_error: 1.5262\n",
            "Epoch 182/200\n",
            "12/12 [==============================] - 0s 2ms/step - loss: 1.5276 - mean_absolute_error: 1.5276\n",
            "Epoch 183/200\n",
            "12/12 [==============================] - 0s 2ms/step - loss: 1.5345 - mean_absolute_error: 1.5345\n",
            "Epoch 184/200\n",
            "12/12 [==============================] - 0s 2ms/step - loss: 1.4976 - mean_absolute_error: 1.4976\n",
            "Epoch 185/200\n",
            "12/12 [==============================] - 0s 2ms/step - loss: 1.4984 - mean_absolute_error: 1.4984\n",
            "Epoch 186/200\n",
            "12/12 [==============================] - 0s 2ms/step - loss: 1.5093 - mean_absolute_error: 1.5093\n",
            "Epoch 187/200\n",
            "12/12 [==============================] - 0s 2ms/step - loss: 1.5003 - mean_absolute_error: 1.5003\n",
            "Epoch 188/200\n",
            "12/12 [==============================] - 0s 2ms/step - loss: 1.4954 - mean_absolute_error: 1.4954\n",
            "Epoch 189/200\n",
            "12/12 [==============================] - 0s 2ms/step - loss: 1.5057 - mean_absolute_error: 1.5057\n",
            "Epoch 190/200\n",
            "12/12 [==============================] - 0s 2ms/step - loss: 1.4929 - mean_absolute_error: 1.4929\n",
            "Epoch 191/200\n",
            "12/12 [==============================] - 0s 2ms/step - loss: 1.4732 - mean_absolute_error: 1.4732\n",
            "Epoch 192/200\n",
            "12/12 [==============================] - 0s 2ms/step - loss: 1.4639 - mean_absolute_error: 1.4639\n",
            "Epoch 193/200\n",
            "12/12 [==============================] - 0s 2ms/step - loss: 1.4522 - mean_absolute_error: 1.4522\n",
            "Epoch 194/200\n",
            "12/12 [==============================] - 0s 2ms/step - loss: 1.4704 - mean_absolute_error: 1.4704\n",
            "Epoch 195/200\n",
            "12/12 [==============================] - 0s 2ms/step - loss: 1.4891 - mean_absolute_error: 1.4891\n",
            "Epoch 196/200\n",
            "12/12 [==============================] - 0s 2ms/step - loss: 1.4969 - mean_absolute_error: 1.4969\n",
            "Epoch 197/200\n",
            "12/12 [==============================] - 0s 2ms/step - loss: 1.4668 - mean_absolute_error: 1.4668\n",
            "Epoch 198/200\n",
            "12/12 [==============================] - 0s 2ms/step - loss: 1.4374 - mean_absolute_error: 1.4374\n",
            "Epoch 199/200\n",
            "12/12 [==============================] - 0s 2ms/step - loss: 1.4645 - mean_absolute_error: 1.4645\n",
            "Epoch 200/200\n",
            "12/12 [==============================] - 0s 2ms/step - loss: 1.4518 - mean_absolute_error: 1.4518\n"
          ]
        },
        {
          "output_type": "execute_result",
          "data": {
            "text/plain": [
              "<keras.callbacks.History at 0x7fcb3395ae50>"
            ]
          },
          "metadata": {},
          "execution_count": 100
        }
      ]
    },
    {
      "cell_type": "code",
      "source": [
        "model.summary()"
      ],
      "metadata": {
        "colab": {
          "base_uri": "https://localhost:8080/"
        },
        "outputId": "c2368560-cf14-4dd9-c467-76801d09ba9e",
        "id": "n0D96iT63ZHT"
      },
      "execution_count": null,
      "outputs": [
        {
          "output_type": "stream",
          "name": "stdout",
          "text": [
            "Model: \"sequential_2\"\n",
            "_________________________________________________________________\n",
            " Layer (type)                Output Shape              Param #   \n",
            "=================================================================\n",
            " dense_10 (Dense)            (None, 14)                196       \n",
            "                                                                 \n",
            " dense_11 (Dense)            (None, 28)                420       \n",
            "                                                                 \n",
            " dense_12 (Dense)            (None, 28)                812       \n",
            "                                                                 \n",
            " dense_13 (Dense)            (None, 13)                377       \n",
            "                                                                 \n",
            " dense_14 (Dense)            (None, 1)                 14        \n",
            "                                                                 \n",
            "=================================================================\n",
            "Total params: 1,819\n",
            "Trainable params: 1,819\n",
            "Non-trainable params: 0\n",
            "_________________________________________________________________\n"
          ]
        }
      ]
    },
    {
      "cell_type": "code",
      "source": [
        "# prediction\n",
        "y_pred = model.predict(X_test)"
      ],
      "metadata": {
        "colab": {
          "base_uri": "https://localhost:8080/"
        },
        "outputId": "b268af4f-d28b-481e-b650-2d95e2d52537",
        "id": "KRvbcLSh3ZHT"
      },
      "execution_count": null,
      "outputs": [
        {
          "output_type": "stream",
          "name": "stdout",
          "text": [
            "4/4 [==============================] - 0s 2ms/step\n"
          ]
        }
      ]
    },
    {
      "cell_type": "code",
      "source": [
        "y_pred"
      ],
      "metadata": {
        "colab": {
          "base_uri": "https://localhost:8080/"
        },
        "id": "K0kBXM5z3ZHT",
        "outputId": "adf9b4a9-b8fb-487f-c041-beb38589cf19"
      },
      "execution_count": null,
      "outputs": [
        {
          "output_type": "execute_result",
          "data": {
            "text/plain": [
              "array([[31.601482 ],\n",
              "       [20.959387 ],\n",
              "       [19.652414 ],\n",
              "       [46.917244 ],\n",
              "       [19.207268 ],\n",
              "       [22.525768 ],\n",
              "       [16.509651 ],\n",
              "       [15.103347 ],\n",
              "       [21.385403 ],\n",
              "       [19.970936 ],\n",
              "       [18.287376 ],\n",
              "       [23.200504 ],\n",
              "       [28.87777  ],\n",
              "       [14.071507 ],\n",
              "       [11.494173 ],\n",
              "       [23.796936 ],\n",
              "       [19.416111 ],\n",
              "       [21.464495 ],\n",
              "       [11.201558 ],\n",
              "       [38.570255 ],\n",
              "       [21.421394 ],\n",
              "       [16.277695 ],\n",
              "       [14.233689 ],\n",
              "       [21.441814 ],\n",
              "       [24.873898 ],\n",
              "       [20.910288 ],\n",
              "       [19.657581 ],\n",
              "       [18.9327   ],\n",
              "       [25.032911 ],\n",
              "       [23.539766 ],\n",
              "       [16.159243 ],\n",
              "       [15.807106 ],\n",
              "       [22.299408 ],\n",
              "       [22.352072 ],\n",
              "       [43.796623 ],\n",
              "       [23.251034 ],\n",
              "       [47.565456 ],\n",
              "       [23.050735 ],\n",
              "       [38.334064 ],\n",
              "       [15.301497 ],\n",
              "       [14.472419 ],\n",
              "       [23.031229 ],\n",
              "       [ 8.509817 ],\n",
              "       [12.077905 ],\n",
              "       [19.312433 ],\n",
              "       [35.88022  ],\n",
              "       [17.967794 ],\n",
              "       [15.340777 ],\n",
              "       [20.446016 ],\n",
              "       [20.350761 ],\n",
              "       [28.84705  ],\n",
              "       [32.55126  ],\n",
              "       [14.531758 ],\n",
              "       [20.87611  ],\n",
              "       [25.99136  ],\n",
              "       [19.051182 ],\n",
              "       [51.918526 ],\n",
              "       [17.224712 ],\n",
              "       [18.921085 ],\n",
              "       [26.616098 ],\n",
              "       [34.483135 ],\n",
              "       [14.718902 ],\n",
              "       [20.243357 ],\n",
              "       [33.03902  ],\n",
              "       [24.562326 ],\n",
              "       [31.48677  ],\n",
              "       [13.253016 ],\n",
              "       [34.14898  ],\n",
              "       [18.014656 ],\n",
              "       [20.669966 ],\n",
              "       [12.489017 ],\n",
              "       [20.73737  ],\n",
              "       [32.473633 ],\n",
              "       [18.966106 ],\n",
              "       [24.943186 ],\n",
              "       [21.872417 ],\n",
              "       [29.657143 ],\n",
              "       [26.771852 ],\n",
              "       [10.584641 ],\n",
              "       [13.448217 ],\n",
              "       [18.828331 ],\n",
              "       [20.230461 ],\n",
              "       [18.438143 ],\n",
              "       [21.295372 ],\n",
              "       [24.601366 ],\n",
              "       [26.808773 ],\n",
              "       [ 9.581406 ],\n",
              "       [20.311857 ],\n",
              "       [ 8.575942 ],\n",
              "       [15.223832 ],\n",
              "       [15.290834 ],\n",
              "       [24.070583 ],\n",
              "       [11.326766 ],\n",
              "       [ 9.532819 ],\n",
              "       [16.666977 ],\n",
              "       [12.420089 ],\n",
              "       [23.04334  ],\n",
              "       [31.30893  ],\n",
              "       [24.147757 ],\n",
              "       [30.608967 ],\n",
              "       [20.242458 ],\n",
              "       [13.883101 ],\n",
              "       [16.69561  ],\n",
              "       [17.11935  ],\n",
              "       [34.641796 ],\n",
              "       [25.287928 ],\n",
              "       [16.350096 ],\n",
              "       [17.047764 ],\n",
              "       [21.33273  ],\n",
              "       [16.228863 ],\n",
              "       [24.379938 ],\n",
              "       [20.03207  ],\n",
              "       [22.133709 ],\n",
              "       [21.621445 ],\n",
              "       [18.166105 ],\n",
              "       [27.896399 ],\n",
              "       [24.261435 ],\n",
              "       [23.75203  ],\n",
              "       [19.099075 ],\n",
              "       [21.743645 ],\n",
              "       [16.145876 ],\n",
              "       [ 6.0280685],\n",
              "       [22.735186 ],\n",
              "       [44.32725  ],\n",
              "       [20.047516 ],\n",
              "       [23.978209 ],\n",
              "       [18.608887 ]], dtype=float32)"
            ]
          },
          "metadata": {},
          "execution_count": 103
        }
      ]
    },
    {
      "cell_type": "code",
      "source": [
        "from sklearn.metrics import mean_absolute_percentage_error"
      ],
      "metadata": {
        "id": "u39vErXA3ZHT"
      },
      "execution_count": null,
      "outputs": []
    },
    {
      "cell_type": "code",
      "source": [
        "mean_absolute_percentage_error(y_test,y_pred)"
      ],
      "metadata": {
        "colab": {
          "base_uri": "https://localhost:8080/"
        },
        "outputId": "8318679e-4e58-497d-ce58-3143c3c37cdf",
        "id": "dv0W3EbN3ZHU"
      },
      "execution_count": null,
      "outputs": [
        {
          "output_type": "execute_result",
          "data": {
            "text/plain": [
              "0.11704543910494826"
            ]
          },
          "metadata": {},
          "execution_count": 105
        }
      ]
    },
    {
      "cell_type": "code",
      "source": [],
      "metadata": {
        "id": "O_XdRmq04VgF"
      },
      "execution_count": null,
      "outputs": []
    }
  ]
}